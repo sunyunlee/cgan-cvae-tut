{
 "cells": [
  {
   "cell_type": "markdown",
   "metadata": {},
   "source": [
    "## VAE Network"
   ]
  },
  {
   "cell_type": "code",
   "execution_count": 1,
   "metadata": {},
   "outputs": [],
   "source": [
    "import torch\n",
    "import torch.nn as nn\n",
    "import torch.nn.functional as F\n",
    "\n",
    "\n",
    "class Encoder(nn.Module):\n",
    "    def __init__(self, input_dim, label_dim, hidden_dim, latent_dim):\n",
    "        super().__init__()\n",
    "\n",
    "#         self.input = nn.Linear(input_dim + label_dim, hidden_dim)\n",
    "        self.input = nn.Linear(input_dim, hidden_dim)\n",
    "#         self.bn = nn.BatchNorm1d(hidden_dim)\n",
    "        \n",
    "        self.hidden = nn.Linear(hidden_dim, hidden_dim)\n",
    "        self.bn1 = nn.BatchNorm1d(hidden_dim)\n",
    "        self.dropout1 = nn.Dropout(0.5)\n",
    "        \n",
    "        self.hidden2 = nn.Linear(hidden_dim, hidden_dim)\n",
    "        self.bn2 = nn.BatchNorm1d(hidden_dim)\n",
    "        self.dropout2 = nn.Dropout(0.5)\n",
    "        \n",
    "        self.hidden3 = nn.Linear(hidden_dim, hidden_dim)\n",
    "        self.bn3 = nn.BatchNorm1d(hidden_dim)\n",
    "        \n",
    "        self.mu_z = nn.Linear(hidden_dim, latent_dim)\n",
    "        self.std_z = nn.Linear(hidden_dim, latent_dim)\n",
    "\n",
    "#     def forward(self, x, label):\n",
    "    def forward(self, x):\n",
    "#         out = self.input(torch.cat((x, label), -1))\n",
    "        out = self.input(x)\n",
    "\n",
    "        out = self.hidden(out)\n",
    "        out = self.bn1(out)\n",
    "        out = F.relu(out)\n",
    "#         out = self.dropout1(out)\n",
    "        \n",
    "#         out = self.hidden2(out)\n",
    "#         out = F.relu(out)\n",
    "        \n",
    "#         out = self.hidden3(out)\n",
    "#         out = F.relu(out)\n",
    "        \n",
    "        mu_z = self.mu_z(out)\n",
    "        std_z = self.std_z(out)\n",
    "\n",
    "        return mu_z, std_z\n",
    "\n",
    "\n",
    "class Decoder(nn.Module):\n",
    "    def __init__(self, latent_dim, label_dim, hidden_dim, output_dim):\n",
    "        super().__init__()\n",
    "\n",
    "#         self.input = nn.Linear(latent_dim + label_dim, hidden_dim)\n",
    "        self.input = nn.Linear(latent_dim, hidden_dim)\n",
    "#         self.bn = nn.BatchNorm1d(hidden_dim)\n",
    "        self.hidden = nn.Linear(hidden_dim, hidden_dim)\n",
    "        self.bn1 = nn.BatchNorm1d(hidden_dim)\n",
    "        self.dropout1 = nn.Dropout(0.2)\n",
    "        \n",
    "        self.hidden2 = nn.Linear(hidden_dim, hidden_dim)\n",
    "        self.bn2 = nn.BatchNorm1d(hidden_dim)\n",
    "        self.dropout2 = nn.Dropout(0.5)\n",
    "        \n",
    "        self.hidden3 = nn.Linear(hidden_dim, hidden_dim)\n",
    "        self.bn3 = nn.BatchNorm1d(hidden_dim)\n",
    "        self.dropout3 = nn.Dropout(0.5)\n",
    "        \n",
    "        self.mu_x = nn.Linear(hidden_dim, output_dim)\n",
    "        self.std_x = nn.Linear(hidden_dim, output_dim)\n",
    "\n",
    "#     def forward(self, z, label):\n",
    "    def forward(self, z):\n",
    "#         out = self.input(torch.cat((z, label), -1))\n",
    "        out = self.input(z)\n",
    "\n",
    "        out = self.hidden(out)\n",
    "        out = self.bn1(out)\n",
    "        out = F.relu(out)\n",
    "#         out = self.dropout1(out)\n",
    "        \n",
    "#         out = self.hidden2(out)\n",
    "#         out = F.relu(out)\n",
    "        \n",
    "#         out = self.hidden3(out)\n",
    "# #         out = self.bn3(out)\n",
    "#         out = F.relu(out)\n",
    "# #         out = self.dropout3(out)\n",
    "        \n",
    "        mu_x = self.mu_x(out)\n",
    "        std_x = self.std_x(out)\n",
    "\n",
    "        return mu_x, std_x"
   ]
  },
  {
   "cell_type": "code",
   "execution_count": 2,
   "metadata": {},
   "outputs": [],
   "source": [
    "from sklearn.datasets import load_boston\n",
    "from sklearn.model_selection import train_test_split\n",
    "import torch \n",
    "import pandas as pd \n",
    "import numpy as np\n",
    "\n",
    "torch.manual_seed(42)\n",
    "np.random.seed(42)"
   ]
  },
  {
   "cell_type": "code",
   "execution_count": 3,
   "metadata": {},
   "outputs": [
    {
     "name": "stdout",
     "output_type": "stream",
     "text": [
      "13\n"
     ]
    }
   ],
   "source": [
    "bos = load_boston()\n",
    "df = pd.DataFrame(bos.data)\n",
    "df.columns = bos.feature_names\n",
    "print(len(bos.feature_names))\n",
    "df[\"Price\"] = bos.target\n",
    "\n",
    "data = df[df.columns[:-1]]\n",
    "# data = data.apply(\n",
    "#     lambda x: (x - x.mean()) / x.std()\n",
    "# )\n",
    "\n",
    "data[\"Price\"] = df.Price"
   ]
  },
  {
   "cell_type": "code",
   "execution_count": 4,
   "metadata": {},
   "outputs": [],
   "source": [
    "from sklearn import preprocessing\n",
    "\n",
    "# Dataset to numpy\n",
    "X = torch.tensor(data.drop(\"Price\", axis=1).values).type(torch.float64)\n",
    "Y = torch.tensor(data[\"Price\"].values).type(torch.float64)\n",
    "\n",
    "# Split dataset for test and train\n",
    "X_train, X_test, Y_train, Y_test = train_test_split(X, Y, test_size=0.3,\n",
    "                                                    random_state=42)\n",
    "\n",
    "# Standardize \n",
    "scaler = preprocessing.StandardScaler().fit(X_train)\n",
    "X_train = torch.tensor(scaler.transform(X_train)).type(torch.float64)\n",
    "X_test = torch.tensor(scaler.transform(X_test)).type(torch.float64)\n",
    "\n",
    "Y_train = Y_train.view(-1, 1)\n",
    "Y_test = Y_test.view(-1, 1)"
   ]
  },
  {
   "cell_type": "code",
   "execution_count": 5,
   "metadata": {},
   "outputs": [],
   "source": [
    "def loss_fn(mu_z, std_z, z_sample, mu_x, std_x, x_in):\n",
    "    S = x_in.shape[0]\n",
    "    \n",
    "    # log posterior q(z|x)\n",
    "    q_z_dist = torch.distributions.Normal(mu_z, torch.exp(std_z))\n",
    "    log_q_z = q_z_dist.log_prob(z_sample)\n",
    "    \n",
    "    # log likelihood p(x|z)\n",
    "    p_x_dist = torch.distributions.Normal(mu_x, torch.exp(std_x))\n",
    "    log_p_x = p_x_dist.log_prob(x_in)\n",
    "    \n",
    "    # log prior \n",
    "    p_z_dist = torch.distributions.Normal(0, 1)\n",
    "    log_p_z = p_z_dist.log_prob(z_sample)\n",
    "    \n",
    "    loss = (1 / S) * (\n",
    "        torch.sum(log_q_z) - torch.sum(log_p_x) - torch.sum(log_p_z) \n",
    "    )\n",
    "    \n",
    "    return loss"
   ]
  },
  {
   "cell_type": "code",
   "execution_count": 6,
   "metadata": {},
   "outputs": [],
   "source": [
    "\"\"\" Hyperparameters \"\"\"\n",
    "N_EPOCHS = 350    # N_EPOCHS = 100 overfitted the data so the evaluation was very bad \n",
    "BATCH_SIZE = 128\n",
    "lr = 0.001\n",
    "INPUT_DIM = X_train.shape[1]\n",
    "LABEL_DIM = Y_train.shape[1]\n",
    "LATENT_DIM = 2\n",
    "HIDDEN_DIM = 5"
   ]
  },
  {
   "cell_type": "code",
   "execution_count": 7,
   "metadata": {},
   "outputs": [],
   "source": [
    "train_data = torch.utils.data.TensorDataset(X_train, Y_train)\n",
    "train_iter = torch.utils.data.DataLoader(train_data, batch_size=BATCH_SIZE)"
   ]
  },
  {
   "cell_type": "code",
   "execution_count": 8,
   "metadata": {},
   "outputs": [],
   "source": [
    "encoder = Encoder(INPUT_DIM, LABEL_DIM, HIDDEN_DIM, LATENT_DIM).type(torch.float64)\n",
    "decoder = Decoder(LATENT_DIM, LABEL_DIM, HIDDEN_DIM, INPUT_DIM).type(torch.float64)"
   ]
  },
  {
   "cell_type": "code",
   "execution_count": 9,
   "metadata": {},
   "outputs": [],
   "source": [
    "optimizer = torch.optim.Adam(list(encoder.parameters()) + list(decoder.parameters()), lr=lr, weight_decay=1e-3)"
   ]
  },
  {
   "cell_type": "code",
   "execution_count": 10,
   "metadata": {},
   "outputs": [
    {
     "name": "stdout",
     "output_type": "stream",
     "text": [
      "Epoch [1 / 350] average loss: 26.406802\n",
      "Epoch [2 / 350] average loss: 25.224725\n",
      "Epoch [3 / 350] average loss: 24.831107\n",
      "Epoch [4 / 350] average loss: 24.209374\n",
      "Epoch [5 / 350] average loss: 23.969881\n",
      "Epoch [6 / 350] average loss: 23.264478\n",
      "Epoch [7 / 350] average loss: 23.361483\n",
      "Epoch [8 / 350] average loss: 23.433715\n",
      "Epoch [9 / 350] average loss: 23.033711\n",
      "Epoch [10 / 350] average loss: 22.627259\n",
      "Epoch [11 / 350] average loss: 22.381980\n",
      "Epoch [12 / 350] average loss: 22.310143\n",
      "Epoch [13 / 350] average loss: 22.294974\n",
      "Epoch [14 / 350] average loss: 23.339200\n",
      "Epoch [15 / 350] average loss: 21.937578\n",
      "Epoch [16 / 350] average loss: 21.485526\n",
      "Epoch [17 / 350] average loss: 21.092935\n",
      "Epoch [18 / 350] average loss: 20.977719\n",
      "Epoch [19 / 350] average loss: 21.054806\n",
      "Epoch [20 / 350] average loss: 20.576325\n",
      "Epoch [21 / 350] average loss: 20.721661\n",
      "Epoch [22 / 350] average loss: 20.584959\n",
      "Epoch [23 / 350] average loss: 20.514748\n",
      "Epoch [24 / 350] average loss: 20.283377\n",
      "Epoch [25 / 350] average loss: 20.147184\n",
      "Epoch [26 / 350] average loss: 20.361482\n",
      "Epoch [27 / 350] average loss: 19.982760\n",
      "Epoch [28 / 350] average loss: 20.369567\n",
      "Epoch [29 / 350] average loss: 19.928912\n",
      "Epoch [30 / 350] average loss: 19.655519\n",
      "Epoch [31 / 350] average loss: 19.806289\n",
      "Epoch [32 / 350] average loss: 19.735264\n",
      "Epoch [33 / 350] average loss: 19.486630\n",
      "Epoch [34 / 350] average loss: 19.722340\n",
      "Epoch [35 / 350] average loss: 19.279428\n",
      "Epoch [36 / 350] average loss: 19.406009\n",
      "Epoch [37 / 350] average loss: 19.505075\n",
      "Epoch [38 / 350] average loss: 19.294865\n",
      "Epoch [39 / 350] average loss: 19.262269\n",
      "Epoch [40 / 350] average loss: 19.235107\n",
      "Epoch [41 / 350] average loss: 19.061637\n",
      "Epoch [42 / 350] average loss: 19.141742\n",
      "Epoch [43 / 350] average loss: 18.896790\n",
      "Epoch [44 / 350] average loss: 19.050906\n",
      "Epoch [45 / 350] average loss: 18.924754\n",
      "Epoch [46 / 350] average loss: 18.773049\n",
      "Epoch [47 / 350] average loss: 18.974547\n",
      "Epoch [48 / 350] average loss: 18.802923\n",
      "Epoch [49 / 350] average loss: 18.711268\n",
      "Epoch [50 / 350] average loss: 18.588699\n",
      "Epoch [51 / 350] average loss: 18.700065\n",
      "Epoch [52 / 350] average loss: 18.598780\n",
      "Epoch [53 / 350] average loss: 18.460978\n",
      "Epoch [54 / 350] average loss: 18.453295\n",
      "Epoch [55 / 350] average loss: 18.490801\n",
      "Epoch [56 / 350] average loss: 18.291814\n",
      "Epoch [57 / 350] average loss: 18.286649\n",
      "Epoch [58 / 350] average loss: 18.233190\n",
      "Epoch [59 / 350] average loss: 18.188689\n",
      "Epoch [60 / 350] average loss: 18.014210\n",
      "Epoch [61 / 350] average loss: 18.174029\n",
      "Epoch [62 / 350] average loss: 17.916303\n",
      "Epoch [63 / 350] average loss: 17.958136\n",
      "Epoch [64 / 350] average loss: 17.866458\n",
      "Epoch [65 / 350] average loss: 17.834767\n",
      "Epoch [66 / 350] average loss: 17.764331\n",
      "Epoch [67 / 350] average loss: 17.860038\n",
      "Epoch [68 / 350] average loss: 17.686590\n",
      "Epoch [69 / 350] average loss: 17.596145\n",
      "Epoch [70 / 350] average loss: 17.555381\n",
      "Epoch [71 / 350] average loss: 17.586264\n",
      "Epoch [72 / 350] average loss: 17.450976\n",
      "Epoch [73 / 350] average loss: 17.330582\n",
      "Epoch [74 / 350] average loss: 17.421067\n",
      "Epoch [75 / 350] average loss: 17.334941\n",
      "Epoch [76 / 350] average loss: 17.258039\n",
      "Epoch [77 / 350] average loss: 17.207405\n",
      "Epoch [78 / 350] average loss: 17.217499\n",
      "Epoch [79 / 350] average loss: 17.099612\n",
      "Epoch [80 / 350] average loss: 17.131518\n",
      "Epoch [81 / 350] average loss: 17.185803\n",
      "Epoch [82 / 350] average loss: 16.996014\n",
      "Epoch [83 / 350] average loss: 16.941977\n",
      "Epoch [84 / 350] average loss: 17.013133\n",
      "Epoch [85 / 350] average loss: 16.787009\n",
      "Epoch [86 / 350] average loss: 16.758394\n",
      "Epoch [87 / 350] average loss: 16.784440\n",
      "Epoch [88 / 350] average loss: 16.818898\n",
      "Epoch [89 / 350] average loss: 16.623467\n",
      "Epoch [90 / 350] average loss: 16.714092\n",
      "Epoch [91 / 350] average loss: 16.552453\n",
      "Epoch [92 / 350] average loss: 16.644441\n",
      "Epoch [93 / 350] average loss: 16.503485\n",
      "Epoch [94 / 350] average loss: 16.461862\n",
      "Epoch [95 / 350] average loss: 16.384524\n",
      "Epoch [96 / 350] average loss: 16.260436\n",
      "Epoch [97 / 350] average loss: 16.174874\n",
      "Epoch [98 / 350] average loss: 16.204046\n",
      "Epoch [99 / 350] average loss: 16.074508\n",
      "Epoch [100 / 350] average loss: 16.102626\n",
      "Epoch [101 / 350] average loss: 15.963367\n",
      "Epoch [102 / 350] average loss: 16.244291\n",
      "Epoch [103 / 350] average loss: 16.204261\n",
      "Epoch [104 / 350] average loss: 15.854018\n",
      "Epoch [105 / 350] average loss: 15.848725\n",
      "Epoch [106 / 350] average loss: 15.799540\n",
      "Epoch [107 / 350] average loss: 15.752117\n",
      "Epoch [108 / 350] average loss: 15.693039\n",
      "Epoch [109 / 350] average loss: 15.658219\n",
      "Epoch [110 / 350] average loss: 15.579149\n",
      "Epoch [111 / 350] average loss: 15.566188\n",
      "Epoch [112 / 350] average loss: 15.595066\n",
      "Epoch [113 / 350] average loss: 15.483261\n",
      "Epoch [114 / 350] average loss: 15.323504\n",
      "Epoch [115 / 350] average loss: 15.306515\n",
      "Epoch [116 / 350] average loss: 15.249658\n",
      "Epoch [117 / 350] average loss: 15.411246\n",
      "Epoch [118 / 350] average loss: 15.193683\n",
      "Epoch [119 / 350] average loss: 15.120052\n",
      "Epoch [120 / 350] average loss: 15.130141\n",
      "Epoch [121 / 350] average loss: 15.197455\n",
      "Epoch [122 / 350] average loss: 14.943989\n",
      "Epoch [123 / 350] average loss: 14.835271\n",
      "Epoch [124 / 350] average loss: 14.818675\n",
      "Epoch [125 / 350] average loss: 14.908725\n",
      "Epoch [126 / 350] average loss: 14.712019\n",
      "Epoch [127 / 350] average loss: 14.835300\n",
      "Epoch [128 / 350] average loss: 14.662570\n",
      "Epoch [129 / 350] average loss: 14.581188\n",
      "Epoch [130 / 350] average loss: 14.597381\n",
      "Epoch [131 / 350] average loss: 14.525338\n",
      "Epoch [132 / 350] average loss: 14.487627\n",
      "Epoch [133 / 350] average loss: 14.580084\n",
      "Epoch [134 / 350] average loss: 14.338166\n",
      "Epoch [135 / 350] average loss: 14.287269\n",
      "Epoch [136 / 350] average loss: 14.312883\n",
      "Epoch [137 / 350] average loss: 14.169344\n",
      "Epoch [138 / 350] average loss: 14.297559\n",
      "Epoch [139 / 350] average loss: 14.142668\n",
      "Epoch [140 / 350] average loss: 14.058780\n",
      "Epoch [141 / 350] average loss: 14.109121\n",
      "Epoch [142 / 350] average loss: 13.999783\n",
      "Epoch [143 / 350] average loss: 13.909990\n",
      "Epoch [144 / 350] average loss: 13.961850\n",
      "Epoch [145 / 350] average loss: 13.942644\n",
      "Epoch [146 / 350] average loss: 13.870612\n",
      "Epoch [147 / 350] average loss: 13.789844\n",
      "Epoch [148 / 350] average loss: 13.847077\n",
      "Epoch [149 / 350] average loss: 13.675057\n",
      "Epoch [150 / 350] average loss: 13.679128\n",
      "Epoch [151 / 350] average loss: 13.651179\n",
      "Epoch [152 / 350] average loss: 13.520657\n",
      "Epoch [153 / 350] average loss: 13.672085\n",
      "Epoch [154 / 350] average loss: 13.479258\n",
      "Epoch [155 / 350] average loss: 13.449302\n",
      "Epoch [156 / 350] average loss: 13.401074\n",
      "Epoch [157 / 350] average loss: 13.334236\n",
      "Epoch [158 / 350] average loss: 13.293694\n",
      "Epoch [159 / 350] average loss: 13.226653\n",
      "Epoch [160 / 350] average loss: 13.180044\n",
      "Epoch [161 / 350] average loss: 13.310358\n",
      "Epoch [162 / 350] average loss: 13.267138\n",
      "Epoch [163 / 350] average loss: 13.107009\n",
      "Epoch [164 / 350] average loss: 13.027602\n",
      "Epoch [165 / 350] average loss: 12.904346\n",
      "Epoch [166 / 350] average loss: 13.115687\n",
      "Epoch [167 / 350] average loss: 12.951028\n",
      "Epoch [168 / 350] average loss: 12.893509\n",
      "Epoch [169 / 350] average loss: 12.922248\n",
      "Epoch [170 / 350] average loss: 12.735248\n",
      "Epoch [171 / 350] average loss: 12.724887\n",
      "Epoch [172 / 350] average loss: 12.683067\n",
      "Epoch [173 / 350] average loss: 12.764487\n",
      "Epoch [174 / 350] average loss: 12.774232\n",
      "Epoch [175 / 350] average loss: 12.645703\n",
      "Epoch [176 / 350] average loss: 12.653943\n",
      "Epoch [177 / 350] average loss: 12.582747\n",
      "Epoch [178 / 350] average loss: 12.578112\n",
      "Epoch [179 / 350] average loss: 12.527574\n",
      "Epoch [180 / 350] average loss: 12.379755\n",
      "Epoch [181 / 350] average loss: 12.490322\n",
      "Epoch [182 / 350] average loss: 12.603120\n",
      "Epoch [183 / 350] average loss: 12.445028\n",
      "Epoch [184 / 350] average loss: 12.308167\n",
      "Epoch [185 / 350] average loss: 12.396641\n",
      "Epoch [186 / 350] average loss: 12.393173\n",
      "Epoch [187 / 350] average loss: 12.254402\n",
      "Epoch [188 / 350] average loss: 12.281027\n",
      "Epoch [189 / 350] average loss: 12.267142\n",
      "Epoch [190 / 350] average loss: 12.176003\n",
      "Epoch [191 / 350] average loss: 12.211626\n",
      "Epoch [192 / 350] average loss: 12.097981\n",
      "Epoch [193 / 350] average loss: 12.044288\n",
      "Epoch [194 / 350] average loss: 12.058430\n",
      "Epoch [195 / 350] average loss: 12.045755\n",
      "Epoch [196 / 350] average loss: 11.939263\n",
      "Epoch [197 / 350] average loss: 11.986941\n",
      "Epoch [198 / 350] average loss: 11.924833\n",
      "Epoch [199 / 350] average loss: 11.923835\n"
     ]
    },
    {
     "name": "stdout",
     "output_type": "stream",
     "text": [
      "Epoch [200 / 350] average loss: 11.926964\n",
      "Epoch [201 / 350] average loss: 11.864581\n",
      "Epoch [202 / 350] average loss: 11.851054\n",
      "Epoch [203 / 350] average loss: 11.733464\n",
      "Epoch [204 / 350] average loss: 11.746662\n",
      "Epoch [205 / 350] average loss: 11.762263\n",
      "Epoch [206 / 350] average loss: 11.715292\n",
      "Epoch [207 / 350] average loss: 11.871237\n",
      "Epoch [208 / 350] average loss: 11.697136\n",
      "Epoch [209 / 350] average loss: 11.652343\n",
      "Epoch [210 / 350] average loss: 11.620136\n",
      "Epoch [211 / 350] average loss: 11.616385\n",
      "Epoch [212 / 350] average loss: 11.574882\n",
      "Epoch [213 / 350] average loss: 11.528047\n",
      "Epoch [214 / 350] average loss: 11.476415\n",
      "Epoch [215 / 350] average loss: 11.467727\n",
      "Epoch [216 / 350] average loss: 11.381819\n",
      "Epoch [217 / 350] average loss: 11.569973\n",
      "Epoch [218 / 350] average loss: 11.391018\n",
      "Epoch [219 / 350] average loss: 11.345695\n",
      "Epoch [220 / 350] average loss: 11.334762\n",
      "Epoch [221 / 350] average loss: 11.351478\n",
      "Epoch [222 / 350] average loss: 11.276167\n",
      "Epoch [223 / 350] average loss: 11.297758\n",
      "Epoch [224 / 350] average loss: 11.191130\n",
      "Epoch [225 / 350] average loss: 11.520112\n",
      "Epoch [226 / 350] average loss: 11.133154\n",
      "Epoch [227 / 350] average loss: 11.186037\n",
      "Epoch [228 / 350] average loss: 11.089245\n",
      "Epoch [229 / 350] average loss: 11.141829\n",
      "Epoch [230 / 350] average loss: 11.032777\n",
      "Epoch [231 / 350] average loss: 11.162869\n",
      "Epoch [232 / 350] average loss: 11.064820\n",
      "Epoch [233 / 350] average loss: 11.044541\n",
      "Epoch [234 / 350] average loss: 11.014549\n",
      "Epoch [235 / 350] average loss: 10.997763\n",
      "Epoch [236 / 350] average loss: 10.949638\n",
      "Epoch [237 / 350] average loss: 11.028539\n",
      "Epoch [238 / 350] average loss: 10.852813\n",
      "Epoch [239 / 350] average loss: 10.842443\n",
      "Epoch [240 / 350] average loss: 10.893855\n",
      "Epoch [241 / 350] average loss: 10.833913\n",
      "Epoch [242 / 350] average loss: 10.919551\n",
      "Epoch [243 / 350] average loss: 10.772580\n",
      "Epoch [244 / 350] average loss: 10.648156\n",
      "Epoch [245 / 350] average loss: 10.739640\n",
      "Epoch [246 / 350] average loss: 10.648316\n",
      "Epoch [247 / 350] average loss: 10.654352\n",
      "Epoch [248 / 350] average loss: 10.618496\n",
      "Epoch [249 / 350] average loss: 10.640805\n",
      "Epoch [250 / 350] average loss: 10.599057\n",
      "Epoch [251 / 350] average loss: 10.634562\n",
      "Epoch [252 / 350] average loss: 10.566381\n",
      "Epoch [253 / 350] average loss: 10.405105\n",
      "Epoch [254 / 350] average loss: 10.437429\n",
      "Epoch [255 / 350] average loss: 10.413064\n",
      "Epoch [256 / 350] average loss: 10.437064\n",
      "Epoch [257 / 350] average loss: 10.303083\n",
      "Epoch [258 / 350] average loss: 10.486736\n",
      "Epoch [259 / 350] average loss: 10.332080\n",
      "Epoch [260 / 350] average loss: 10.294665\n",
      "Epoch [261 / 350] average loss: 10.336144\n",
      "Epoch [262 / 350] average loss: 10.298950\n",
      "Epoch [263 / 350] average loss: 10.241327\n",
      "Epoch [264 / 350] average loss: 10.279266\n",
      "Epoch [265 / 350] average loss: 10.192494\n",
      "Epoch [266 / 350] average loss: 10.210528\n",
      "Epoch [267 / 350] average loss: 10.090105\n",
      "Epoch [268 / 350] average loss: 10.052094\n",
      "Epoch [269 / 350] average loss: 10.041293\n",
      "Epoch [270 / 350] average loss: 10.063448\n",
      "Epoch [271 / 350] average loss: 10.142442\n",
      "Epoch [272 / 350] average loss: 10.164835\n",
      "Epoch [273 / 350] average loss: 9.963780\n",
      "Epoch [274 / 350] average loss: 10.021898\n",
      "Epoch [275 / 350] average loss: 9.924781\n",
      "Epoch [276 / 350] average loss: 9.950254\n",
      "Epoch [277 / 350] average loss: 9.949000\n",
      "Epoch [278 / 350] average loss: 9.924418\n",
      "Epoch [279 / 350] average loss: 9.820713\n",
      "Epoch [280 / 350] average loss: 9.864145\n",
      "Epoch [281 / 350] average loss: 9.807536\n",
      "Epoch [282 / 350] average loss: 9.824212\n",
      "Epoch [283 / 350] average loss: 9.766425\n",
      "Epoch [284 / 350] average loss: 9.644838\n",
      "Epoch [285 / 350] average loss: 9.723385\n",
      "Epoch [286 / 350] average loss: 9.657099\n",
      "Epoch [287 / 350] average loss: 9.752629\n",
      "Epoch [288 / 350] average loss: 9.963117\n",
      "Epoch [289 / 350] average loss: 10.057382\n",
      "Epoch [290 / 350] average loss: 9.795313\n",
      "Epoch [291 / 350] average loss: 9.858829\n",
      "Epoch [292 / 350] average loss: 9.780071\n",
      "Epoch [293 / 350] average loss: 9.827724\n",
      "Epoch [294 / 350] average loss: 10.028890\n",
      "Epoch [295 / 350] average loss: 9.668220\n",
      "Epoch [296 / 350] average loss: 9.753875\n",
      "Epoch [297 / 350] average loss: 9.759604\n",
      "Epoch [298 / 350] average loss: 9.595815\n",
      "Epoch [299 / 350] average loss: 9.593326\n",
      "Epoch [300 / 350] average loss: 9.569762\n",
      "Epoch [301 / 350] average loss: 9.459188\n",
      "Epoch [302 / 350] average loss: 9.497458\n",
      "Epoch [303 / 350] average loss: 9.516299\n",
      "Epoch [304 / 350] average loss: 9.437702\n",
      "Epoch [305 / 350] average loss: 9.674544\n",
      "Epoch [306 / 350] average loss: 9.468991\n",
      "Epoch [307 / 350] average loss: 9.403785\n",
      "Epoch [308 / 350] average loss: 9.500760\n",
      "Epoch [309 / 350] average loss: 9.452424\n",
      "Epoch [310 / 350] average loss: 9.355104\n",
      "Epoch [311 / 350] average loss: 9.410040\n",
      "Epoch [312 / 350] average loss: 9.342784\n",
      "Epoch [313 / 350] average loss: 9.300394\n",
      "Epoch [314 / 350] average loss: 9.280202\n",
      "Epoch [315 / 350] average loss: 9.343468\n",
      "Epoch [316 / 350] average loss: 9.243247\n",
      "Epoch [317 / 350] average loss: 9.386971\n",
      "Epoch [318 / 350] average loss: 9.306962\n",
      "Epoch [319 / 350] average loss: 9.248166\n",
      "Epoch [320 / 350] average loss: 9.261879\n",
      "Epoch [321 / 350] average loss: 9.177302\n",
      "Epoch [322 / 350] average loss: 9.140197\n",
      "Epoch [323 / 350] average loss: 9.291782\n",
      "Epoch [324 / 350] average loss: 9.184756\n",
      "Epoch [325 / 350] average loss: 9.331659\n",
      "Epoch [326 / 350] average loss: 9.361365\n",
      "Epoch [327 / 350] average loss: 9.413980\n",
      "Epoch [328 / 350] average loss: 9.324317\n",
      "Epoch [329 / 350] average loss: 9.224411\n",
      "Epoch [330 / 350] average loss: 9.186408\n",
      "Epoch [331 / 350] average loss: 9.202021\n",
      "Epoch [332 / 350] average loss: 9.098653\n",
      "Epoch [333 / 350] average loss: 9.161219\n",
      "Epoch [334 / 350] average loss: 9.161776\n",
      "Epoch [335 / 350] average loss: 9.085351\n",
      "Epoch [336 / 350] average loss: 9.034078\n",
      "Epoch [337 / 350] average loss: 9.078475\n",
      "Epoch [338 / 350] average loss: 9.206894\n",
      "Epoch [339 / 350] average loss: 9.038494\n",
      "Epoch [340 / 350] average loss: 8.941226\n",
      "Epoch [341 / 350] average loss: 8.952387\n",
      "Epoch [342 / 350] average loss: 8.998964\n",
      "Epoch [343 / 350] average loss: 8.972992\n",
      "Epoch [344 / 350] average loss: 9.199317\n",
      "Epoch [345 / 350] average loss: 8.884542\n",
      "Epoch [346 / 350] average loss: 8.984112\n",
      "Epoch [347 / 350] average loss: 8.854726\n",
      "Epoch [348 / 350] average loss: 8.938766\n",
      "Epoch [349 / 350] average loss: 9.051222\n",
      "Epoch [350 / 350] average loss: 9.102860\n"
     ]
    }
   ],
   "source": [
    "train_loss_avg = []\n",
    "\n",
    "\n",
    "for ep in range(N_EPOCHS):\n",
    "    train_loss_avg.append(0)\n",
    "    num_batches = 0\n",
    "    \n",
    "    for x, y in train_iter:\n",
    "        # Update the gradient to zero \n",
    "        optimizer.zero_grad()\n",
    "        \n",
    "        # Forward pass \n",
    "        # Encoder\n",
    "#         mu_z, std_z = encoder(x, y)\n",
    "        mu_z, std_z = encoder(x)\n",
    "\n",
    "        # Sample z\n",
    "        eps = torch.randn_like(std_z)\n",
    "        z_samples = mu_z + eps * torch.exp(std_z)\n",
    "\n",
    "        # Decoder\n",
    "#         mu_x, std_x = decoder(z_samples, y)\n",
    "        mu_x, std_x = decoder(z_samples)\n",
    "        eps = torch.randn_like(std_x)\n",
    "\n",
    "#         x_samples = mu_x + eps * torch.exp(std_x)\n",
    "\n",
    "#         return mu_z, std_z, z_samples, mu_x, std_x, x_samples\n",
    "        \n",
    "        # Loss \n",
    "        loss = loss_fn(mu_z, std_z, z_samples, mu_x, std_x, x)\n",
    "        \n",
    "        # Backward pass \n",
    "        loss.backward()\n",
    "        \n",
    "        # Update the weights \n",
    "        optimizer.step()\n",
    "        \n",
    "        train_loss_avg[-1] += loss.item()\n",
    "        num_batches += 1\n",
    "    \n",
    "    train_loss_avg[-1] /= num_batches\n",
    "    print(\"Epoch [%d / %d] average loss: %f\" % (ep+1, N_EPOCHS, train_loss_avg[-1]))"
   ]
  },
  {
   "cell_type": "code",
   "execution_count": 11,
   "metadata": {},
   "outputs": [
    {
     "data": {
      "image/png": "[encoded data removed]",
      "text/plain": [
       "<Figure size 432x288 with 1 Axes>"
      ]
     },
     "metadata": {
      "needs_background": "light"
     },
     "output_type": "display_data"
    }
   ],
   "source": [
    "import matplotlib.pyplot as plt\n",
    "plt.ion()\n",
    "\n",
    "fig = plt.figure()\n",
    "plt.plot(train_loss_avg)\n",
    "plt.title(\"Train Losses\")\n",
    "plt.xlabel('Epochs')\n",
    "plt.ylabel('Loss')\n",
    "plt.show()"
   ]
  },
  {
   "cell_type": "markdown",
   "metadata": {},
   "source": [
    "### Loss function \n",
    "$$\n",
    "\\log p(x_i) \\geq \\int q_\\theta(z|x_i) [\\log p_\\phi(x_i|z) + \\log p(z) - \\log q_\\theta(z|x_i)] dz\\\\\n",
    "\\approx - \\frac{1}{S} \\sum_{i=1}^{S} [\\log q_\\theta(z|x_i) - \\log p_\\phi(x_i|z) - \\log p(z)]\\\\\n",
    "= -\\frac{1}{S} \\sum_{i=1}^S [\\mathcal{N}(z|\\mu(x_i), \\sigma(x_i))- \\mathcal{N}(x_i|\\mu(z), \\sigma(z)) - \\mathcal{N}(z|0, 1)]\n",
    "$$\n",
    "We add a negative sign to the loss function because the lower bound should be maximized while the loss function should be minimized.\n",
    "\n",
    "### Test evaluation metrics\n",
    "$$\n",
    "\\log p(x_i) \\geq \\int q_\\theta(z|x_i) [\\log p_\\phi(x_i|z) + \\log p(z) - \\log q_\\theta(z|x_i)] dz\\\\\n",
    "\\approx - \\frac{1}{S} \\sum_{i=1}^{S} [\\log p_\\phi(x_i|z)]\\\\\n",
    "$$\n",
    "\n",
    "\n",
    "Should I set $q_\\theta(z|x_i)$ to $\\mathcal{N}(z|0,1)$ if I am testing with $z\\sim q(z)$? So the test evaluation would just be on the term $\\log p_\\phi(x_i|z)$.\n",
    "I will be using my trained cVAE for predicting $x$ given just the label. It make sense to test in an environment same as how I will be using the model. So I should just find the error caused by the decoder. \n",
    "\n",
    "Referenced for loss function:\n",
    "https://medium.com/retina-ai-health-inc/variational-inference-derivation-of-the-variational-autoencoder-vae-loss-function-a-true-story-3543a3dc67ee\n",
    "\n",
    "Tutorial referenced:\n",
    "https://colab.research.google.com/github/smartgeometry-ucl/dl4g/blob/master/variational_autoencoder.ipynb#scrollTo=LKnr0LCMhEGj"
   ]
  },
  {
   "cell_type": "code",
   "execution_count": 12,
   "metadata": {},
   "outputs": [],
   "source": [
    "test_data = torch.utils.data.TensorDataset(X_test, Y_test)\n",
    "test_iter = torch.utils.data.DataLoader(test_data, batch_size=BATCH_SIZE)"
   ]
  },
  {
   "cell_type": "code",
   "execution_count": 13,
   "metadata": {},
   "outputs": [],
   "source": [
    "def eval_metrics(mu_x, std_x, x_in):\n",
    "    S = x_in.shape[0]\n",
    "    \n",
    "    # log likelihood p(x|z)\n",
    "    p_x_dist = torch.distributions.Normal(mu_x, torch.exp(std_x))\n",
    "    log_p_x = p_x_dist.log_prob(x_in)\n",
    "    \n",
    "    loss = - (1 / S) * (torch.sum(log_p_x))\n",
    "    \n",
    "    return loss "
   ]
  },
  {
   "cell_type": "markdown",
   "metadata": {},
   "source": [
    "Sampling"
   ]
  },
  {
   "cell_type": "code",
   "execution_count": 14,
   "metadata": {},
   "outputs": [],
   "source": [
    "S = X_test.shape[0]\n",
    "# # Forward pass \n",
    "p_z_given_x = torch.distributions.Normal(0, 1)\n",
    "z = p_z_given_x.sample((S, LATENT_DIM)).type(torch.float64)\n",
    "# mu_x, std_x = decoder(z, Y_test)   \n",
    "mu_x, std_x = decoder(z)"
   ]
  },
  {
   "cell_type": "code",
   "execution_count": 15,
   "metadata": {},
   "outputs": [],
   "source": [
    "eps = torch.distributions.Normal(0, 1).sample(std_x.shape)\n",
    "x_samples = mu_x + std_x * eps"
   ]
  },
  {
   "cell_type": "code",
   "execution_count": 16,
   "metadata": {},
   "outputs": [
    {
     "data": {
      "text/plain": [
       "tensor([ 0.1258, -0.2687,  0.0725, -0.0354, -0.0371,  0.0071, -0.0276,  0.1093,\n",
       "        -0.0411,  0.1346,  0.1082,  0.0022, -0.0583], dtype=torch.float64,\n",
       "       grad_fn=<MeanBackward1>)"
      ]
     },
     "execution_count": 16,
     "metadata": {},
     "output_type": "execute_result"
    }
   ],
   "source": [
    "x_samples.mean(0)"
   ]
  },
  {
   "cell_type": "code",
   "execution_count": 17,
   "metadata": {},
   "outputs": [
    {
     "data": {
      "text/plain": [
       "tensor([ 0.0576, -0.0059,  0.0018, -0.0546, -0.0732, -0.1902, -0.0271,  0.0457,\n",
       "         0.0430,  0.0239,  0.2623, -0.1161,  0.1087], dtype=torch.float64)"
      ]
     },
     "execution_count": 17,
     "metadata": {},
     "output_type": "execute_result"
    }
   ],
   "source": [
    "X_test.mean(0)"
   ]
  },
  {
   "cell_type": "code",
   "execution_count": 18,
   "metadata": {},
   "outputs": [
    {
     "data": {
      "text/plain": [
       "tensor([2.3441, 3.4316, 1.3684, 0.3796, 1.2686, 0.3736, 0.9307, 0.9759, 1.5892,\n",
       "        1.1762, 0.9180, 1.8741, 0.9141], dtype=torch.float64,\n",
       "       grad_fn=<StdBackward1>)"
      ]
     },
     "execution_count": 18,
     "metadata": {},
     "output_type": "execute_result"
    }
   ],
   "source": [
    "x_samples.std(0)"
   ]
  },
  {
   "cell_type": "code",
   "execution_count": 19,
   "metadata": {},
   "outputs": [
    {
     "data": {
      "text/plain": [
       "tensor([1.1143, 1.1066, 0.9665, 0.9077, 0.9764, 0.9116, 1.0617, 0.9717, 1.0299,\n",
       "        1.0444, 0.8328, 1.1600, 1.0140], dtype=torch.float64)"
      ]
     },
     "execution_count": 19,
     "metadata": {},
     "output_type": "execute_result"
    }
   ],
   "source": [
    "X_test.std(0)"
   ]
  },
  {
   "cell_type": "code",
   "execution_count": 20,
   "metadata": {},
   "outputs": [
    {
     "data": {
      "text/plain": [
       "Text(0, 0.5, 'Mean of Generated Distribution')"
      ]
     },
     "execution_count": 20,
     "metadata": {},
     "output_type": "execute_result"
    },
    {
     "data": {
      "image/png": "[encoded data removed]",
      "text/plain": [
       "<Figure size 432x288 with 1 Axes>"
      ]
     },
     "metadata": {
      "needs_background": "light"
     },
     "output_type": "display_data"
    }
   ],
   "source": [
    "plt.scatter(X_test.mean(0).detach().numpy(), x_samples.mean(0).detach().numpy())\n",
    "plt.title(\"VAE Mean Comparison\")\n",
    "plt.xlabel(\"Mean of Held Out Data\")\n",
    "plt.ylabel(\"Mean of Generated Distribution\")"
   ]
  },
  {
   "cell_type": "code",
   "execution_count": 21,
   "metadata": {},
   "outputs": [
    {
     "data": {
      "text/plain": [
       "Text(0, 0.5, 'Standard Deviation of Generated Distribution')"
      ]
     },
     "execution_count": 21,
     "metadata": {},
     "output_type": "execute_result"
    },
    {
     "data": {
      "image/png": "[encoded data removed]",
      "text/plain": [
       "<Figure size 432x288 with 1 Axes>"
      ]
     },
     "metadata": {
      "needs_background": "light"
     },
     "output_type": "display_data"
    }
   ],
   "source": [
    "plt.scatter(X_test.std(0).detach().numpy(), x_samples.std(0).detach().numpy())\n",
    "plt.title(\"VAE Standard Deviation Comparison\")\n",
    "plt.xlabel(\"Standard Deviation of Held Out Data\")\n",
    "plt.ylabel(\"Standard Deviation of Generated Distribution\")"
   ]
  },
  {
   "cell_type": "code",
   "execution_count": 22,
   "metadata": {},
   "outputs": [],
   "source": [
    "# figs, axs = plt.subplots(x_samples.shape[1], 2, figsize=(20, 100))\n",
    "# for i in range(x_samples.shape[1]):\n",
    "#     axs[i].scatter([x_test[:,i], x_samples[:,i]], color=['red','green'])\n",
    "#     axs[i].legend([\"data\", \"sample\"])\n",
    "# plt.show()"
   ]
  },
  {
   "cell_type": "code",
   "execution_count": 23,
   "metadata": {},
   "outputs": [
    {
     "data": {
      "text/plain": [
       "torch.Size([152, 13])"
      ]
     },
     "execution_count": 23,
     "metadata": {},
     "output_type": "execute_result"
    }
   ],
   "source": [
    "X_test.shape"
   ]
  },
  {
   "cell_type": "code",
   "execution_count": 24,
   "metadata": {
    "scrolled": true
   },
   "outputs": [
    {
     "data": {
      "text/plain": [
       "<function matplotlib.pyplot.show(close=None, block=None)>"
      ]
     },
     "execution_count": 24,
     "metadata": {},
     "output_type": "execute_result"
    },
    {
     "data": {
      "image/png": "[encoded data removed]",
      "text/plain": [
       "<Figure size 432x288 with 1 Axes>"
      ]
     },
     "metadata": {
      "needs_background": "light"
     },
     "output_type": "display_data"
    }
   ],
   "source": [
    "plt.scatter(x_samples.detach().numpy(), X_test)\n",
    "plt.xlabel(\"x_out (sampled from model)\")\n",
    "plt.ylabel(\"x_in (held out dataset)\")\n",
    "plt.show"
   ]
  },
  {
   "cell_type": "code",
   "execution_count": 25,
   "metadata": {},
   "outputs": [
    {
     "data": {
      "text/plain": [
       "torch.Size([152, 13])"
      ]
     },
     "execution_count": 25,
     "metadata": {},
     "output_type": "execute_result"
    }
   ],
   "source": [
    "X_test.shape"
   ]
  },
  {
   "cell_type": "code",
   "execution_count": 26,
   "metadata": {},
   "outputs": [
    {
     "data": {
      "text/plain": [
       "torch.Size([152, 13])"
      ]
     },
     "execution_count": 26,
     "metadata": {},
     "output_type": "execute_result"
    }
   ],
   "source": [
    "x_samples.shape"
   ]
  },
  {
   "cell_type": "code",
   "execution_count": 27,
   "metadata": {},
   "outputs": [
    {
     "data": {
      "image/png": "[encoded data removed]",
      "text/plain": [
       "<Figure size 1440x7200 with 26 Axes>"
      ]
     },
     "metadata": {
      "needs_background": "light"
     },
     "output_type": "display_data"
    }
   ],
   "source": [
    "x_test = X_test.numpy()\n",
    "x_samples = x_samples.detach().numpy()\n",
    "figs, axs = plt.subplots(x_samples.shape[1], 2, figsize=(20, 100))\n",
    "for i in range(x_samples.shape[1]):\n",
    "    axs[i, 0].hist(x_test[:,i])\n",
    "    axs[i, 1].hist(x_samples[:,i])\n",
    "plt.show()"
   ]
  },
  {
   "cell_type": "code",
   "execution_count": 28,
   "metadata": {},
   "outputs": [
    {
     "data": {
      "text/plain": [
       "array([ 0.12579549, -0.26869144,  0.0725167 , -0.0353695 , -0.03714   ,\n",
       "        0.00711979, -0.02762192,  0.10932612, -0.04105966,  0.1345669 ,\n",
       "        0.10818142,  0.0022088 , -0.05832492])"
      ]
     },
     "execution_count": 28,
     "metadata": {},
     "output_type": "execute_result"
    }
   ],
   "source": [
    "x_samples.mean(0)"
   ]
  },
  {
   "cell_type": "code",
   "execution_count": 29,
   "metadata": {},
   "outputs": [
    {
     "data": {
      "text/plain": [
       "tensor([ 0.0576, -0.0059,  0.0018, -0.0546, -0.0732, -0.1902, -0.0271,  0.0457,\n",
       "         0.0430,  0.0239,  0.2623, -0.1161,  0.1087], dtype=torch.float64)"
      ]
     },
     "execution_count": 29,
     "metadata": {},
     "output_type": "execute_result"
    }
   ],
   "source": [
    "X_test.mean(0)"
   ]
  },
  {
   "cell_type": "code",
   "execution_count": 30,
   "metadata": {},
   "outputs": [
    {
     "data": {
      "text/plain": [
       "array([2.33634933, 3.42029229, 1.36392649, 0.37839251, 1.26437982,\n",
       "       0.3723619 , 0.92758664, 0.97266538, 1.58397586, 1.17236759,\n",
       "       0.91495235, 1.86788511, 0.91109942])"
      ]
     },
     "execution_count": 30,
     "metadata": {},
     "output_type": "execute_result"
    }
   ],
   "source": [
    "x_samples.std(0)"
   ]
  },
  {
   "cell_type": "code",
   "execution_count": 31,
   "metadata": {},
   "outputs": [
    {
     "data": {
      "text/plain": [
       "tensor([1.1143, 1.1066, 0.9665, 0.9077, 0.9764, 0.9116, 1.0617, 0.9717, 1.0299,\n",
       "        1.0444, 0.8328, 1.1600, 1.0140], dtype=torch.float64)"
      ]
     },
     "execution_count": 31,
     "metadata": {},
     "output_type": "execute_result"
    }
   ],
   "source": [
    "X_test.std(0)"
   ]
  },
  {
   "cell_type": "markdown",
   "metadata": {},
   "source": [
    "1. What are the 13 features \n",
    "2. What does plotting the histogram represent. "
   ]
  },
  {
   "cell_type": "code",
   "execution_count": 32,
   "metadata": {},
   "outputs": [
    {
     "data": {
      "text/plain": [
       "array([ 1.        , -0.1910687 ,  0.42486438, -0.08718963,  0.46821577,\n",
       "       -0.23795259,  0.38613771, -0.40293044,  0.63190985,  0.58463217,\n",
       "        0.27942462, -0.52906495,  0.55059428])"
      ]
     },
     "execution_count": 32,
     "metadata": {},
     "output_type": "execute_result"
    }
   ],
   "source": [
    "np.corrcoef(X_test, rowvar=False)[0]"
   ]
  },
  {
   "cell_type": "code",
   "execution_count": 33,
   "metadata": {},
   "outputs": [
    {
     "data": {
      "text/plain": [
       "array([ 1.        , -0.01736488,  0.07956899, -0.00417537, -0.03785993,\n",
       "       -0.04215773, -0.03864944, -0.04139365, -0.11763129,  0.13460249,\n",
       "        0.04906961, -0.18312735,  0.03500765])"
      ]
     },
     "execution_count": 33,
     "metadata": {},
     "output_type": "execute_result"
    }
   ],
   "source": [
    "np.corrcoef(x_samples, rowvar=False)[0]"
   ]
  },
  {
   "cell_type": "code",
   "execution_count": 34,
   "metadata": {},
   "outputs": [
    {
     "data": {
      "text/plain": [
       "array([-0.1910687 ,  1.        , -0.51290453, -0.06876205, -0.49604812,\n",
       "        0.34901083, -0.54269001,  0.65072851, -0.29812013, -0.33169892,\n",
       "       -0.45453415,  0.18209134, -0.45634992])"
      ]
     },
     "execution_count": 34,
     "metadata": {},
     "output_type": "execute_result"
    }
   ],
   "source": [
    "np.corrcoef(X_test, rowvar=False)[1]"
   ]
  },
  {
   "cell_type": "code",
   "execution_count": 35,
   "metadata": {},
   "outputs": [
    {
     "data": {
      "text/plain": [
       "array([-0.01736488,  1.        , -0.10778168, -0.09925301, -0.19938738,\n",
       "        0.22666984, -0.14345709,  0.19304603, -0.14596346, -0.15006908,\n",
       "       -0.20294821,  0.07245695, -0.19608164])"
      ]
     },
     "execution_count": 35,
     "metadata": {},
     "output_type": "execute_result"
    }
   ],
   "source": [
    "np.corrcoef(x_samples, rowvar=False)[1]"
   ]
  },
  {
   "cell_type": "code",
   "execution_count": 36,
   "metadata": {},
   "outputs": [
    {
     "data": {
      "text/plain": [
       "array([ 0.42486438, -0.51290453,  1.        ,  0.03220062,  0.76409769,\n",
       "       -0.35575224,  0.66757595, -0.72731343,  0.63361793,  0.7646962 ,\n",
       "        0.45750608, -0.41160893,  0.66605524])"
      ]
     },
     "execution_count": 36,
     "metadata": {},
     "output_type": "execute_result"
    }
   ],
   "source": [
    "np.corrcoef(X_test, rowvar=False)[2]"
   ]
  },
  {
   "cell_type": "code",
   "execution_count": 37,
   "metadata": {},
   "outputs": [
    {
     "data": {
      "text/plain": [
       "array([ 0.07956899, -0.10778168,  1.        ,  0.40914198,  0.38769982,\n",
       "       -0.50761487,  0.36352123, -0.45065647,  0.22086679,  0.27502469,\n",
       "        0.24956527, -0.07867698,  0.41398123])"
      ]
     },
     "execution_count": 37,
     "metadata": {},
     "output_type": "execute_result"
    }
   ],
   "source": [
    "np.corrcoef(x_samples, rowvar=False)[2]"
   ]
  },
  {
   "cell_type": "code",
   "execution_count": 38,
   "metadata": {},
   "outputs": [
    {
     "data": {
      "text/plain": [
       "array([-0.08718963, -0.06876205,  0.03220062,  1.        ,  0.06471079,\n",
       "       -0.05183806,  0.09452797, -0.06774048, -0.14252854, -0.15269275,\n",
       "       -0.21787821, -0.00468345,  0.07728061])"
      ]
     },
     "execution_count": 38,
     "metadata": {},
     "output_type": "execute_result"
    }
   ],
   "source": [
    "np.corrcoef(X_test, rowvar=False)[3]"
   ]
  },
  {
   "cell_type": "code",
   "execution_count": 39,
   "metadata": {},
   "outputs": [
    {
     "data": {
      "text/plain": [
       "array([-0.00417537, -0.09925301,  0.40914198,  1.        ,  0.53098954,\n",
       "       -0.41700693,  0.43703135, -0.33236705,  0.15960004,  0.12044971,\n",
       "        0.10913525, -0.16353031,  0.36345732])"
      ]
     },
     "execution_count": 39,
     "metadata": {},
     "output_type": "execute_result"
    }
   ],
   "source": [
    "np.corrcoef(x_samples, rowvar=False)[3]"
   ]
  }
 ],
 "metadata": {
  "kernelspec": {
   "display_name": "Python 3",
   "language": "python",
   "name": "python3"
  },
  "language_info": {
   "codemirror_mode": {
    "name": "ipython",
    "version": 3
   },
   "file_extension": ".py",
   "mimetype": "text/x-python",
   "name": "python",
   "nbconvert_exporter": "python",
   "pygments_lexer": "ipython3",
   "version": "3.8.5"
  }
 },
 "nbformat": 4,
 "nbformat_minor": 4
}
