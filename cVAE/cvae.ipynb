{
 "cells": [
  {
   "cell_type": "markdown",
   "metadata": {},
   "source": [
    "## VAE Network"
   ]
  },
  {
   "cell_type": "code",
   "execution_count": 1,
   "metadata": {},
   "outputs": [],
   "source": [
    "import torch\n",
    "import torch.nn as nn\n",
    "import torch.nn.functional as F\n",
    "\n",
    "\n",
    "class Encoder(nn.Module):\n",
    "    def __init__(self, input_dim, label_dim, hidden_dim, latent_dim):\n",
    "        super().__init__()\n",
    "\n",
    "        self.input = nn.Linear(input_dim + label_dim, hidden_dim)\n",
    "        self.bn1 = nn.BatchNorm1d(hidden_dim)\n",
    "        self.hidden = nn.Linear(hidden_dim, hidden_dim)\n",
    "        self.bn2 = nn.BatchNorm1d(hidden_dim)\n",
    "        self.mu_z = nn.Linear(hidden_dim, latent_dim)\n",
    "        self.std_z = nn.Linear(hidden_dim, latent_dim)\n",
    "\n",
    "    def forward(self, x, label):\n",
    "        out = self.input(torch.cat((x, label), -1))\n",
    "        out = self.bn1(out)\n",
    "        out = F.relu(out)\n",
    "        out = self.hidden(out)\n",
    "        out = self.bn2(out)\n",
    "        out = F.relu(out)\n",
    "        mu_z = self.mu_z(out)\n",
    "        std_z = self.std_z(out)\n",
    "\n",
    "        return mu_z, std_z\n",
    "\n",
    "\n",
    "class Decoder(nn.Module):\n",
    "    def __init__(self, latent_dim, label_dim, hidden_dim, output_dim):\n",
    "        super().__init__()\n",
    "\n",
    "        self.input = nn.Linear(latent_dim + label_dim, hidden_dim)\n",
    "        self.bn1 = nn.BatchNorm1d(hidden_dim)\n",
    "        self.hidden = nn.Linear(hidden_dim, hidden_dim)\n",
    "        self.bn2 = nn.BatchNorm1d(hidden_dim)\n",
    "        self.mu_x = nn.Linear(hidden_dim, output_dim)\n",
    "        self.std_x = nn.Linear(hidden_dim, output_dim)\n",
    "\n",
    "    def forward(self, z, label):\n",
    "        out = self.input(torch.cat((z, label), -1))\n",
    "        out = self.bn1(out)\n",
    "        out = F.relu(out)\n",
    "        out = self.hidden(out)\n",
    "        out = self.bn2(out)\n",
    "        out = F.relu(out)\n",
    "        mu_x = self.mu_x(out)\n",
    "        std_x = self.std_x(out)\n",
    "\n",
    "        return mu_x, std_x"
   ]
  },
  {
   "cell_type": "code",
   "execution_count": 2,
   "metadata": {},
   "outputs": [],
   "source": [
    "from sklearn.datasets import load_boston\n",
    "from sklearn.model_selection import train_test_split\n",
    "import torch \n",
    "import pandas as pd \n",
    "import numpy as np\n",
    "\n",
    "torch.manual_seed(42)\n",
    "np.random.seed(42)"
   ]
  },
  {
   "cell_type": "code",
   "execution_count": 3,
   "metadata": {},
   "outputs": [],
   "source": [
    "bos = load_boston()\n",
    "df = pd.DataFrame(bos.data)\n",
    "df.columns = bos.feature_names\n",
    "df[\"Price\"] = bos.target\n",
    "\n",
    "data = df[df.columns[:-1]]\n",
    "data = data.apply(\n",
    "    lambda x: (x - x.mean()) / x.std()\n",
    ")\n",
    "\n",
    "data[\"Price\"] = df.Price\n",
    "\n",
    "# Dataset to numpy\n",
    "X = torch.tensor(data.drop(\"Price\", axis=1).values).type(torch.float64)\n",
    "Y = torch.tensor(data[\"Price\"].values).type(torch.float64)\n",
    "\n",
    "# Split dataset for test and train\n",
    "X_train, X_test, Y_train, Y_test = train_test_split(X, Y, test_size=0.3,\n",
    "                                                    random_state=42)\n",
    "Y_train = Y_train.view(-1, 1)\n",
    "Y_test = Y_test.view(-1, 1)"
   ]
  },
  {
   "cell_type": "code",
   "execution_count": 4,
   "metadata": {},
   "outputs": [],
   "source": [
    "def loss_fn(mu_z, std_z, z_sample, mu_x, std_x, x_in):\n",
    "    S = x_in.shape[0]\n",
    "    \n",
    "    # log posterior q(z|x)\n",
    "    q_z_dist = torch.distributions.Normal(mu_z, torch.exp(std_z))\n",
    "    log_q_z = q_z_dist.log_prob(z_sample)\n",
    "    \n",
    "    # log likelihood p(x|z)\n",
    "    p_x_dist = torch.distributions.Normal(mu_x, torch.exp(std_x))\n",
    "    log_p_x = p_x_dist.log_prob(x_in)\n",
    "    \n",
    "    # log prior \n",
    "    p_z_dist = torch.distributions.Normal(0, 1)\n",
    "    log_p_z = p_z_dist.log_prob(z_sample)\n",
    "    \n",
    "    loss = (1 / S) * (\n",
    "        torch.sum(log_q_z) - torch.sum(log_p_x) - torch.sum(log_p_z) \n",
    "    )\n",
    "    \n",
    "    return loss"
   ]
  },
  {
   "cell_type": "code",
   "execution_count": 5,
   "metadata": {},
   "outputs": [],
   "source": [
    "\"\"\" Hyperparameters \"\"\"\n",
    "N_EPOCHS = 50     # N_EPOCHS = 100 overfitted the data so the evaluation was very bad \n",
    "BATCH_SIZE = 128\n",
    "lr = 0.001\n",
    "INPUT_DIM = X_train.shape[1]\n",
    "LABEL_DIM = Y_train.shape[1]\n",
    "LATENT_DIM = 5\n",
    "HIDDEN_DIM = 20"
   ]
  },
  {
   "cell_type": "code",
   "execution_count": 6,
   "metadata": {},
   "outputs": [],
   "source": [
    "train_data = torch.utils.data.TensorDataset(X_train, Y_train)\n",
    "train_iter = torch.utils.data.DataLoader(train_data, batch_size=BATCH_SIZE)"
   ]
  },
  {
   "cell_type": "code",
   "execution_count": 7,
   "metadata": {},
   "outputs": [],
   "source": [
    "encoder = Encoder(INPUT_DIM, LABEL_DIM, HIDDEN_DIM, LATENT_DIM).type(torch.float64)\n",
    "decoder = Decoder(LATENT_DIM, LABEL_DIM, HIDDEN_DIM, INPUT_DIM).type(torch.float64)"
   ]
  },
  {
   "cell_type": "code",
   "execution_count": 8,
   "metadata": {},
   "outputs": [],
   "source": [
    "optimizer = torch.optim.Adam(list(encoder.parameters()) + list(decoder.parameters()), lr=lr, weight_decay=1e-4)"
   ]
  },
  {
   "cell_type": "code",
   "execution_count": 9,
   "metadata": {},
   "outputs": [
    {
     "name": "stdout",
     "output_type": "stream",
     "text": [
      "Epoch [1 / 50] average reconstruction error: 85.140703\n",
      "Epoch [2 / 50] average reconstruction error: 73.460292\n",
      "Epoch [3 / 50] average reconstruction error: 71.446435\n",
      "Epoch [4 / 50] average reconstruction error: 67.379344\n",
      "Epoch [5 / 50] average reconstruction error: 63.712880\n",
      "Epoch [6 / 50] average reconstruction error: 62.025782\n",
      "Epoch [7 / 50] average reconstruction error: 60.188840\n",
      "Epoch [8 / 50] average reconstruction error: 58.551060\n",
      "Epoch [9 / 50] average reconstruction error: 58.474609\n",
      "Epoch [10 / 50] average reconstruction error: 57.384165\n",
      "Epoch [11 / 50] average reconstruction error: 56.647861\n",
      "Epoch [12 / 50] average reconstruction error: 56.014024\n",
      "Epoch [13 / 50] average reconstruction error: 55.372546\n",
      "Epoch [14 / 50] average reconstruction error: 54.604355\n",
      "Epoch [15 / 50] average reconstruction error: 54.241739\n",
      "Epoch [16 / 50] average reconstruction error: 53.753541\n",
      "Epoch [17 / 50] average reconstruction error: 52.646531\n",
      "Epoch [18 / 50] average reconstruction error: 52.109132\n",
      "Epoch [19 / 50] average reconstruction error: 52.240089\n",
      "Epoch [20 / 50] average reconstruction error: 51.542025\n",
      "Epoch [21 / 50] average reconstruction error: 51.324131\n",
      "Epoch [22 / 50] average reconstruction error: 50.637757\n",
      "Epoch [23 / 50] average reconstruction error: 50.795188\n",
      "Epoch [24 / 50] average reconstruction error: 50.271062\n",
      "Epoch [25 / 50] average reconstruction error: 49.789771\n",
      "Epoch [26 / 50] average reconstruction error: 49.347852\n",
      "Epoch [27 / 50] average reconstruction error: 48.758926\n",
      "Epoch [28 / 50] average reconstruction error: 48.517895\n",
      "Epoch [29 / 50] average reconstruction error: 48.204501\n",
      "Epoch [30 / 50] average reconstruction error: 48.081916\n",
      "Epoch [31 / 50] average reconstruction error: 48.072614\n",
      "Epoch [32 / 50] average reconstruction error: 47.352332\n",
      "Epoch [33 / 50] average reconstruction error: 47.066611\n",
      "Epoch [34 / 50] average reconstruction error: 47.059526\n",
      "Epoch [35 / 50] average reconstruction error: 46.517052\n",
      "Epoch [36 / 50] average reconstruction error: 46.444336\n",
      "Epoch [37 / 50] average reconstruction error: 46.612812\n",
      "Epoch [38 / 50] average reconstruction error: 46.076257\n",
      "Epoch [39 / 50] average reconstruction error: 46.028787\n",
      "Epoch [40 / 50] average reconstruction error: 45.548176\n",
      "Epoch [41 / 50] average reconstruction error: 45.762407\n",
      "Epoch [42 / 50] average reconstruction error: 44.891766\n",
      "Epoch [43 / 50] average reconstruction error: 44.767358\n",
      "Epoch [44 / 50] average reconstruction error: 44.578424\n",
      "Epoch [45 / 50] average reconstruction error: 44.173637\n",
      "Epoch [46 / 50] average reconstruction error: 44.096736\n",
      "Epoch [47 / 50] average reconstruction error: 43.685511\n",
      "Epoch [48 / 50] average reconstruction error: 44.076067\n",
      "Epoch [49 / 50] average reconstruction error: 43.246771\n",
      "Epoch [50 / 50] average reconstruction error: 43.291063\n"
     ]
    }
   ],
   "source": [
    "train_loss_avg = []\n",
    "\n",
    "\n",
    "for ep in range(N_EPOCHS):\n",
    "    train_loss_avg.append(0)\n",
    "    num_batches = 0\n",
    "    \n",
    "    for x, y in train_iter:\n",
    "        # Update the gradient to zero \n",
    "        optimizer.zero_grad()\n",
    "        \n",
    "        # Forward pass \n",
    "        # Encoder\n",
    "        mu_z, std_z = encoder(x, y)\n",
    "\n",
    "        # Sample z\n",
    "        eps = torch.randn_like(std_z)\n",
    "        z_samples = mu_z + eps * torch.exp(std_z)\n",
    "\n",
    "        # Decoder\n",
    "        mu_x, std_x = decoder(z_samples, y)\n",
    "        eps = torch.randn_like(std_x)\n",
    "\n",
    "        x_samples = mu_x + eps * torch.exp(std_x)\n",
    "\n",
    "#         return mu_z, std_z, z_samples, mu_x, std_x, x_samples\n",
    "        \n",
    "        # Loss \n",
    "        loss = loss_fn(mu_z, std_z, z_samples, mu_x, std_x, x)\n",
    "        \n",
    "        # Backward pass \n",
    "        loss.backward()\n",
    "        \n",
    "        # Update the weights \n",
    "        optimizer.step()\n",
    "        \n",
    "        train_loss_avg[-1] += loss.item()\n",
    "        num_batches += 1\n",
    "    \n",
    "    print(\"Epoch [%d / %d] average reconstruction error: %f\" % (ep+1, N_EPOCHS, train_loss_avg[-1]))"
   ]
  },
  {
   "cell_type": "code",
   "execution_count": 10,
   "metadata": {},
   "outputs": [
    {
     "data": {
      "image/png": "[encoded data removed]",
      "text/plain": [
       "<Figure size 432x288 with 1 Axes>"
      ]
     },
     "metadata": {
      "needs_background": "light"
     },
     "output_type": "display_data"
    }
   ],
   "source": [
    "import matplotlib.pyplot as plt\n",
    "plt.ion()\n",
    "\n",
    "fig = plt.figure()\n",
    "plt.plot(train_loss_avg)\n",
    "plt.title(\"Train Losses\")\n",
    "plt.xlabel('Epochs')\n",
    "plt.ylabel('Loss')\n",
    "plt.show()"
   ]
  },
  {
   "cell_type": "markdown",
   "metadata": {},
   "source": [
    "### Loss function \n",
    "$$\n",
    "\\log p(x_i) \\geq \\int q_\\theta(z|x_i) [\\log p_\\phi(x_i|z) + \\log p(z) - \\log q_\\theta(z|x_i)] dz\\\\\n",
    "\\approx - \\frac{1}{S} \\sum_{i=1}^{S} [\\log q_\\theta(z|x_i) - \\log p_\\phi(x_i|z) - \\log p(z)]\\\\\n",
    "= -\\frac{1}{S} \\sum_{i=1}^S [\\mathcal{N}(z|\\mu(x_i), \\sigma(x_i))- \\mathcal{N}(x_i|\\mu(z), \\sigma(z)) - \\mathcal{N}(z|0, 1)]\n",
    "$$\n",
    "We add a negative sign to the loss function because the lower bound should be maximized while the loss function should be minimized.\n",
    "\n",
    "### Test evaluation metrics\n",
    "$$\n",
    "\\log p(x_i) \\geq \\int q_\\theta(z|x_i) [\\log p_\\phi(x_i|z) + \\log p(z) - \\log q_\\theta(z|x_i)] dz\\\\\n",
    "\\approx - \\frac{1}{S} \\sum_{i=1}^{S} [\\log p_\\phi(x_i|z)]\\\\\n",
    "$$\n",
    "\n",
    "\n",
    "Should I set $q_\\theta(z|x_i)$ to $\\mathcal{N}(z|0,1)$ if I am testing with $z\\sim q(z)$? So the test evaluation would just be on the term $\\log p_\\phi(x_i|z)$.\n",
    "I will be using my trained cVAE for predicting $x$ given just the label. It make sense to test in an environment same as how I will be using the model. So I should just find the error caused by the decoder. \n",
    "\n",
    "Referenced for loss function:\n",
    "https://medium.com/retina-ai-health-inc/variational-inference-derivation-of-the-variational-autoencoder-vae-loss-function-a-true-story-3543a3dc67ee\n",
    "\n",
    "Tutorial referenced:\n",
    "https://colab.research.google.com/github/smartgeometry-ucl/dl4g/blob/master/variational_autoencoder.ipynb#scrollTo=LKnr0LCMhEGj"
   ]
  },
  {
   "cell_type": "code",
   "execution_count": 11,
   "metadata": {},
   "outputs": [],
   "source": [
    "test_data = torch.utils.data.TensorDataset(X_test, Y_test)\n",
    "test_iter = torch.utils.data.DataLoader(test_data, batch_size=BATCH_SIZE)"
   ]
  },
  {
   "cell_type": "code",
   "execution_count": 12,
   "metadata": {},
   "outputs": [],
   "source": [
    "def eval_metrics(mu_x, std_x, x_in):\n",
    "    S = x_in.shape[0]\n",
    "    \n",
    "    # log likelihood p(x|z)\n",
    "    p_x_dist = torch.distributions.Normal(mu_x, torch.exp(std_x))\n",
    "    log_p_x = p_x_dist.log_prob(x_in)\n",
    "    \n",
    "    loss = - (1 / S) * (torch.sum(log_p_x))\n",
    "    \n",
    "    return loss "
   ]
  },
  {
   "cell_type": "code",
   "execution_count": 13,
   "metadata": {},
   "outputs": [
    {
     "name": "stdout",
     "output_type": "stream",
     "text": [
      "Test Epoch: 1 Loss: 14.900144751875878\n",
      "Test Epoch: 2 Loss: 15.961965517481945\n"
     ]
    }
   ],
   "source": [
    "for i, (x, y) in enumerate(test_iter):\n",
    "    # Forward pass \n",
    "    p_z_given_x = torch.distributions.Normal(0, 1)\n",
    "    z = p_z_given_x.sample((x.shape[0], LATENT_DIM))\n",
    "    mu_x, std_x = decoder(z, y)\n",
    "    \n",
    "    # Loss \n",
    "    loss = eval_metrics(mu_x, std_x, x)       # what is mu_z and std_z in this case? \n",
    "        # Model assumes that z is sampled independently or x in test time therefore should sample from N(0, 1)\n",
    "    \n",
    "    print(\"Test Epoch: {} Loss: {}\".format(i + 1, loss))"
   ]
  },
  {
   "cell_type": "code",
   "execution_count": null,
   "metadata": {},
   "outputs": [],
   "source": []
  }
 ],
 "metadata": {
  "kernelspec": {
   "display_name": "Python 3",
   "language": "python",
   "name": "python3"
  },
  "language_info": {
   "codemirror_mode": {
    "name": "ipython",
    "version": 3
   },
   "file_extension": ".py",
   "mimetype": "text/x-python",
   "name": "python",
   "nbconvert_exporter": "python",
   "pygments_lexer": "ipython3",
   "version": "3.8.5"
  }
 },
 "nbformat": 4,
 "nbformat_minor": 4
}
