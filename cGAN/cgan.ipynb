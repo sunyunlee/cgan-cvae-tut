{
 "cells": [
  {
   "cell_type": "code",
   "execution_count": 1,
   "metadata": {},
   "outputs": [],
   "source": [
    "import torch\n",
    "import torch.nn as nn\n",
    "import torch.nn.functional as F\n",
    "\n",
    "from sklearn.datasets import load_boston\n",
    "from sklearn.model_selection import train_test_split\n",
    "import pandas as pd \n",
    "import numpy as np\n",
    "import torch\n",
    "\n",
    "torch.manual_seed(42)\n",
    "np.random.seed(42)\n",
    "\n",
    "class Generator(nn.Module):\n",
    "    def __init__(self, input_dim, hidden_dim, noise_dim, label_dim):\n",
    "        super().__init__()\n",
    "        self.input = nn.Linear(noise_dim + label_dim, hidden_dim)\n",
    "        self.hidden = nn.Linear(hidden_dim, 10)\n",
    "        self.dropout = nn.Dropout(0.5)\n",
    "        self.hidden2 = nn.Linear(10, 10)\n",
    "        self.dropout2 = nn.Dropout(0.5)\n",
    "        self.hidden3 = nn.Linear(10, hidden_dim)\n",
    "        self.output = nn.Linear(hidden_dim, input_dim)\n",
    "\n",
    "    def forward(self, noise, label):\n",
    "        out = F.relu(self.input(torch.cat((noise, label), -1)))\n",
    "        out = F.relu(self.hidden(out))\n",
    "        out = self.dropout(out)\n",
    "        out = F.relu(self.hidden2(out))\n",
    "        out = self.dropout2(out)\n",
    "        out = F.relu(self.hidden3(out))\n",
    "        out = self.output(out)\n",
    "\n",
    "        return out\n",
    "\n",
    "\n",
    "class Discriminator(nn.Module):\n",
    "    def __init__(self, input_dim, label_dim, hidden_dim):\n",
    "        super().__init__()\n",
    "        self.input = nn.Linear(input_dim + label_dim, hidden_dim)\n",
    "        self.hidden = nn.Linear(hidden_dim, 10)\n",
    "        self.dropout = nn.Dropout(0.5)\n",
    "        self.hidden2 = nn.Linear(10, 10)\n",
    "        self.dropout2 = nn.Dropout(0.5)\n",
    "        self.hidden3 = nn.Linear(10, hidden_dim)\n",
    "        self.output = nn.Linear(hidden_dim, 1)\n",
    "    \n",
    "    def forward(self, x, label):\n",
    "        out = F.relu(self.input(torch.cat((x, label), -1)))\n",
    "#         out = self.batch_norm(F.relu(self.hidden(out)))\n",
    "        out = F.relu(self.hidden(out))\n",
    "        out = self.dropout(out)\n",
    "        out = F.relu(self.hidden2(out))\n",
    "        out = self.dropout2(out)\n",
    "        out = F.relu(self.hidden3(out))\n",
    "        out = self.output(out)\n",
    "        \n",
    "        return out"
   ]
  },
  {
   "cell_type": "code",
   "execution_count": 2,
   "metadata": {},
   "outputs": [
    {
     "name": "stdout",
     "output_type": "stream",
     "text": [
      "      CRIM    ZN  INDUS  CHAS    NOX     RM   AGE     DIS  RAD    TAX  \\\n",
      "0  0.00632  18.0   2.31   0.0  0.538  6.575  65.2  4.0900  1.0  296.0   \n",
      "1  0.02731   0.0   7.07   0.0  0.469  6.421  78.9  4.9671  2.0  242.0   \n",
      "2  0.02729   0.0   7.07   0.0  0.469  7.185  61.1  4.9671  2.0  242.0   \n",
      "3  0.03237   0.0   2.18   0.0  0.458  6.998  45.8  6.0622  3.0  222.0   \n",
      "4  0.06905   0.0   2.18   0.0  0.458  7.147  54.2  6.0622  3.0  222.0   \n",
      "\n",
      "   PTRATIO       B  LSTAT  Price  \n",
      "0     15.3  396.90   4.98   24.0  \n",
      "1     17.8  396.90   9.14   21.6  \n",
      "2     17.8  392.83   4.03   34.7  \n",
      "3     18.7  394.63   2.94   33.4  \n",
      "4     18.7  396.90   5.33   36.2  \n"
     ]
    }
   ],
   "source": [
    "# Load dataset \n",
    "bos = load_boston()\n",
    "df = pd.DataFrame(bos.data)\n",
    "df.columns = bos.feature_names\n",
    "df[\"Price\"] = bos.target\n",
    "\n",
    "# # Standardize\n",
    "# data = df[df.columns[:-1]]\n",
    "# data = data.apply(\n",
    "#     lambda x: (x - x.mean()) / x.std()\n",
    "# )\n",
    "\n",
    "data['Price'] = df.Price\n",
    "\n",
    "print(df.head())"
   ]
  },
  {
   "cell_type": "markdown",
   "metadata": {},
   "source": [
    "## Test"
   ]
  },
  {
   "cell_type": "markdown",
   "metadata": {},
   "source": [
    "## 1-NN"
   ]
  },
  {
   "cell_type": "code",
   "execution_count": 3,
   "metadata": {},
   "outputs": [],
   "source": [
    "from sklearn.model_selection import LeaveOneOut\n",
    "# Define the models\n",
    "# Dataset to tensor \n",
    "# \n",
    "X = torch.tensor(data.drop(\"Price\", axis=1).values).type(torch.float64)\n",
    "Y = torch.tensor(data[\"Price\"].values).type(torch.float64).view(-1, 1)\n",
    "\n",
    "X_TRAIN, X_test, Y_TRAIN, Y_test = train_test_split(X, Y, test_size=0.3, random_state=42)\n",
    "Y_TRAIN = Y_TRAIN.view(-1, 1)\n",
    "Y_test = Y_test.view(-1, 1)\n",
    "\n",
    "# Standardize data \n",
    "scaler = preprocessing.StandardScaler().fit(X_TRAIN)\n",
    "X_TRAIN = scaler.transform(X_TRAIN)\n",
    "    # Should not t\n",
    "    # Want to use the same standard deviation and mean as the train dataset because our model thinks\n",
    "X_test = scaler.transform(X_test)"
   ]
  },
  {
   "cell_type": "markdown",
   "metadata": {},
   "source": [
    "### Standardization\n",
    "X = X_train + X_test\n",
    "(X - mean(X)) / std(X) -- This is bad because we are introducing information about \"future\" data into our training set \n",
    "\n",
    "X_train = (X_train - mean(X_train)) / std(X_train) \n",
    "X_test = (X_test - mean(X_test)) / std(X_test)\n",
    "-- Think of test set as a data that we are making prediction for (as if we didn't have y values).\n",
    "You can see why we would need to apply the normalization scales of train data to test data. \n",
    "You don't get an entire set of input data all at once, same model can be used many times on different input values. Then we don't really know what the mean and standard deviation of all inputs are. \n",
    "We assume that the data that we get are from the same scales as the test data and use its scale values.\n",
    "Always assume that the model does not know the distribution (or in this case scale) of the data that it needs to make pre\n",
    "\n",
    "Correct way \n",
    "X_train = (X_train - mean(X_train)) / std(X_train)\n",
    "X_test = (X_test - mean(X_train)) / std(X_train)"
   ]
  },
  {
   "cell_type": "code",
   "execution_count": 4,
   "metadata": {},
   "outputs": [],
   "source": [
    "# Define hyperparameters \n",
    "N_EPOCHS = 40\n",
    "BATCH_SIZE = 128\n",
    "lr = 0.001\n",
    "INPUT_DIM = X.shape[1]\n",
    "LABEL_DIM = Y.shape[1]\n",
    "NOISE_DIM = 5\n",
    "HIDDEN_DIM = 5"
   ]
  },
  {
   "cell_type": "code",
   "execution_count": 5,
   "metadata": {},
   "outputs": [],
   "source": [
    "# Define the models\n",
    "gen = Generator(INPUT_DIM, HIDDEN_DIM, NOISE_DIM, LABEL_DIM).type(torch.float64)\n",
    "dis = Discriminator(INPUT_DIM, LABEL_DIM, HIDDEN_DIM).type(torch.float64)\n",
    "\n",
    "prior = torch.distributions.Normal(torch.tensor(0.0), torch.tensor(1.0))"
   ]
  },
  {
   "cell_type": "code",
   "execution_count": 6,
   "metadata": {},
   "outputs": [],
   "source": [
    "# Define optimizers \n",
    "optG = torch.optim.Adam(gen.parameters(), lr=lr, weight_decay=1e-4)\n",
    "optD = torch.optim.Adam(dis.parameters(), lr=lr, weight_decay=1e-4)\n",
    "\n",
    "logsigmoid = torch.nn.LogSigmoid()"
   ]
  },
  {
   "cell_type": "code",
   "execution_count": 7,
   "metadata": {},
   "outputs": [
    {
     "name": "stdout",
     "output_type": "stream",
     "text": [
      "354\n",
      "354\n"
     ]
    }
   ],
   "source": [
    "\"\"\" Cross Validation \"\"\"\n",
    "# Leave one out \n",
    "from sklearn.model_selection import LeaveOneOut\n",
    "\n",
    "loo = LeaveOneOut()\n",
    "print(loo.get_n_splits(X_TRAIN))\n",
    "print(len(X_TRAIN))\n",
    "\n",
    "\n",
    "# K fold\n",
    "from sklearn.model_selection import KFold\n",
    "\n",
    "kf = KFold(n_splits=10)"
   ]
  },
  {
   "cell_type": "code",
   "execution_count": 8,
   "metadata": {},
   "outputs": [
    {
     "name": "stdout",
     "output_type": "stream",
     "text": [
      "Epoch [1 / 40] average reconstruction error: 0.500000\n",
      "Epoch [2 / 40] average reconstruction error: 0.500000\n",
      "Epoch [3 / 40] average reconstruction error: 0.500000\n",
      "Epoch [4 / 40] average reconstruction error: 0.500000\n",
      "Epoch [5 / 40] average reconstruction error: 0.500000\n",
      "Epoch [6 / 40] average reconstruction error: 0.500000\n",
      "Epoch [7 / 40] average reconstruction error: 0.500000\n",
      "Epoch [8 / 40] average reconstruction error: 0.500000\n",
      "Epoch [9 / 40] average reconstruction error: 0.500000\n",
      "Epoch [10 / 40] average reconstruction error: 0.500000\n",
      "Epoch [11 / 40] average reconstruction error: 0.500000\n",
      "Epoch [12 / 40] average reconstruction error: 0.500000\n",
      "Epoch [13 / 40] average reconstruction error: 0.500000\n",
      "Epoch [14 / 40] average reconstruction error: 0.500000\n",
      "Epoch [15 / 40] average reconstruction error: 0.500000\n",
      "Epoch [16 / 40] average reconstruction error: 0.500000\n",
      "Epoch [17 / 40] average reconstruction error: 0.500000\n",
      "Epoch [18 / 40] average reconstruction error: 0.500000\n",
      "Epoch [19 / 40] average reconstruction error: 0.500000\n",
      "Epoch [20 / 40] average reconstruction error: 0.500000\n",
      "Epoch [21 / 40] average reconstruction error: 0.500000\n",
      "Epoch [22 / 40] average reconstruction error: 0.500000\n",
      "Epoch [23 / 40] average reconstruction error: 0.500000\n",
      "Epoch [24 / 40] average reconstruction error: 0.500000\n",
      "Epoch [25 / 40] average reconstruction error: 0.500000\n",
      "Epoch [26 / 40] average reconstruction error: 0.500000\n",
      "Epoch [27 / 40] average reconstruction error: 0.500000\n",
      "Epoch [28 / 40] average reconstruction error: 0.500000\n",
      "Epoch [29 / 40] average reconstruction error: 0.500000\n",
      "Epoch [30 / 40] average reconstruction error: 0.500000\n",
      "Epoch [31 / 40] average reconstruction error: 0.500000\n",
      "Epoch [32 / 40] average reconstruction error: 0.500000\n",
      "Epoch [33 / 40] average reconstruction error: 0.500000\n",
      "Epoch [34 / 40] average reconstruction error: 0.500000\n",
      "Epoch [35 / 40] average reconstruction error: 0.500000\n",
      "Epoch [36 / 40] average reconstruction error: 0.500000\n",
      "Epoch [37 / 40] average reconstruction error: 0.500000\n",
      "Epoch [38 / 40] average reconstruction error: 0.500000\n",
      "Epoch [39 / 40] average reconstruction error: 0.500000\n",
      "Epoch [40 / 40] average reconstruction error: 0.500000\n"
     ]
    }
   ],
   "source": [
    "train_accuracy = []\n",
    "\n",
    "\n",
    "for ep in range(N_EPOCHS):\n",
    "    train_accuracy.append(0)\n",
    "    num_batches = 0 \n",
    "    for train_index, test_train_index in loo.split(X_TRAIN):\n",
    "#     for train_index, test_train_index in kf.split(X_TRAIN):\n",
    "        dis.train()\n",
    "        gen.train()\n",
    "        X_train, X_test_train = X_TRAIN[train_index], X_TRAIN[test_train_index]\n",
    "        Y_train, Y_test_train = Y_TRAIN[train_index], Y_TRAIN[test_train_index]\n",
    "        \n",
    "        N = len(X_train)\n",
    "        \n",
    "        \"\"\" Train Discriminator \"\"\"\n",
    "        # zero grad \n",
    "        optD.zero_grad()\n",
    "        \n",
    "        # Forward pass \n",
    "        # 1. Discriminator \n",
    "        outD = dis(X_train, Y_train)\n",
    "        \n",
    "        # 2. Generator-Discriminator\n",
    "        noise_dis = prior.sample((N, NOISE_DIM)).type(torch.float64)\n",
    "        outG_dis = gen(noise_dis, Y_train)\n",
    "        outDG_dis = dis(outG_dis, Y_train)\n",
    "        \n",
    "        # Loss\n",
    "        lossD = -torch.mean(logsigmoid(outD) + logsigmoid(1 - outDG_dis))\n",
    "        \n",
    "        # Backward\n",
    "        lossD.backward()\n",
    "        \n",
    "        # Update parameters \n",
    "        optD.step()\n",
    "                \n",
    "        \"\"\" Train Generator \"\"\"\n",
    "        # zero grad \n",
    "        optG.zero_grad()\n",
    "        \n",
    "        # Forward pass \n",
    "        noise_gen = prior.sample((N, NOISE_DIM)).type(torch.float64)\n",
    "        outG_gen = gen(noise_gen, Y_train)\n",
    "        outDG_gen = dis(outG_gen, Y_train)\n",
    "        \n",
    "        # Loss \n",
    "        lossG = -torch.mean(logsigmoid(outDG_gen))\n",
    "        \n",
    "        # Backward \n",
    "        lossG.backward()\n",
    "        \n",
    "        # Update parameters \n",
    "        optG.step()\n",
    "        \n",
    "        \"\"\" Train Accuracy (Leave one out) \"\"\"\n",
    "        dis.eval()\n",
    "        gen.eval()\n",
    "        # Forward pass\n",
    "        # 1. Discriminator\n",
    "        outD = dis(X_test_train, Y_test_train)\n",
    "        outD = torch.nn.Sigmoid()(outD[0,0])\n",
    "#         outD = torch.nn.Sigmoid()(outD)\n",
    "        outD_acc = int((outD > 0.5) == 1)\n",
    "#         outD_acc = torch.sum((outD > 0.5) == 1)\n",
    "        \n",
    "        train_accuracy[-1] += outD_acc \n",
    "        num_batches += 1\n",
    "#         num_batches += X_test_train.shape[0]\n",
    "        \n",
    "\n",
    "        # 2. Generator-Discriminator\n",
    "        noise = prior.sample((Y_test_train.shape[0], NOISE_DIM)).type(torch.float64)\n",
    "        outG = gen(noise, Y_test_train)\n",
    "        outDG = dis(outG, Y_test_train)\n",
    "        outDG = torch.nn.Sigmoid()(outDG[0,0])\n",
    "#         outDG = torch.nn.Sigmoid()(outDG)\n",
    "        outDG_accuracy = int((outDG > 0.5) == 0)\n",
    "#         outDG_accuracy = torch.sum((outDG > 0.5) == 0)\n",
    "        \n",
    "        train_accuracy[-1] += outDG_accuracy\n",
    "        num_batches += 1     \n",
    "#         num_batches += X_test_train.shape[0]\n",
    "    \n",
    "    train_accuracy[-1] /= num_batches\n",
    "#     train_accuracy[-1] = train_accuracy[-1].item() / num_batches\n",
    "\n",
    "    print(\"Epoch [%d / %d] average reconstruction error: %f\" % (ep+1, N_EPOCHS, train_accuracy[-1]))\n",
    "    \n",
    "    # https://arxiv.org/pdf/1802.03446.pdf\n",
    "    # https://arxiv.org/pdf/1610.06545.pdf"
   ]
  },
  {
   "cell_type": "code",
   "execution_count": 9,
   "metadata": {},
   "outputs": [
    {
     "data": {
      "image/png": "[encoded data removed]",
      "text/plain": [
       "<Figure size 432x288 with 1 Axes>"
      ]
     },
     "metadata": {
      "needs_background": "light"
     },
     "output_type": "display_data"
    }
   ],
   "source": [
    "import matplotlib.pyplot as plt\n",
    "plt.ion()\n",
    "\n",
    "fig = plt.figure()\n",
    "plt.plot(train_accuracy)\n",
    "plt.axhline(0.5, linestyle='--')\n",
    "plt.title(\"Train Accuracies\")\n",
    "plt.xlabel('Epochs')\n",
    "plt.ylabel('Loss')\n",
    "plt.show()"
   ]
  },
  {
   "cell_type": "code",
   "execution_count": 10,
   "metadata": {},
   "outputs": [
    {
     "name": "stdout",
     "output_type": "stream",
     "text": [
      "Final test accuracy on held out data:  0.5\n"
     ]
    }
   ],
   "source": [
    "# Test Test \n",
    "outD = dis(X_test, Y_test)\n",
    "\n",
    "noise = prior.sample((len(X_test), NOISE_DIM)).type(torch.float64)\n",
    "outG = gen(noise, Y_test)\n",
    "outDG = dis(outG, Y_test)\n",
    "\n",
    "output = torch.cat((outD, outDG))\n",
    "label_real = torch.ones(outD.shape)\n",
    "label_fake = torch.zeros(outDG.shape)\n",
    "labels = torch.cat((label_real, label_fake))\n",
    "\n",
    "accuracy = torch.mean(((output > 0.5) == labels).type(torch.float64)).item()\n",
    "\n",
    "print(\"Final test accuracy on held out data: \", accuracy)"
   ]
  }
 ],
 "metadata": {
  "kernelspec": {
   "display_name": "Python 3",
   "language": "python",
   "name": "python3"
  },
  "language_info": {
   "codemirror_mode": {
    "name": "ipython",
    "version": 3
   },
   "file_extension": ".py",
   "mimetype": "text/x-python",
   "name": "python",
   "nbconvert_exporter": "python",
   "pygments_lexer": "ipython3",
   "version": "3.8.5"
  }
 },
 "nbformat": 4,
 "nbformat_minor": 4
}
