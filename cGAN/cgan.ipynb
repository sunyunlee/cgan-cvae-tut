{
 "cells": [
  {
   "cell_type": "code",
   "execution_count": 1,
   "metadata": {},
   "outputs": [],
   "source": [
    "import torch\n",
    "import torch.nn as nn\n",
    "import torch.nn.functional as F\n",
    "\n",
    "from sklearn.datasets import load_boston\n",
    "from sklearn.model_selection import train_test_split\n",
    "import pandas as pd \n",
    "import numpy as np\n",
    "import torch\n",
    "\n",
    "torch.manual_seed(42)\n",
    "np.random.seed(42)\n",
    "\n",
    "class Generator(nn.Module):\n",
    "    def __init__(self, input_dim, hidden_dim, noise_dim, label_dim):\n",
    "        super().__init__()\n",
    "        self.input = nn.Linear(noise_dim + label_dim, hidden_dim)\n",
    "        self.hidden = nn.Linear(hidden_dim, hidden_dim)\n",
    "        self.output = nn.Linear(hidden_dim, input_dim)\n",
    "\n",
    "    def forward(self, noise, label):\n",
    "        out = self.input(torch.cat((noise, label), -1))\n",
    "        out = F.relu(out)\n",
    "        out = self.hidden(out)\n",
    "        out = F.relu(out)\n",
    "        out = self.output(out)\n",
    "\n",
    "        return out\n",
    "\n",
    "\n",
    "class Discriminator(nn.Module):\n",
    "    def __init__(self, input_dim, label_dim, hidden_dim):\n",
    "        super().__init__()\n",
    "        self.input = nn.Linear(input_dim + label_dim, hidden_dim)\n",
    "        self.hidden = nn.Linear(hidden_dim, hidden_dim)\n",
    "        self.output = nn.Linear(hidden_dim, 1)\n",
    "    \n",
    "    def forward(self, x, label):\n",
    "        out = self.input(torch.cat((x, label), -1))\n",
    "        out = F.relu(out)\n",
    "        out = self.hidden(out)\n",
    "        out = F.relu(out)\n",
    "        out = self.output(out)\n",
    "        \n",
    "        return out"
   ]
  },
  {
   "cell_type": "code",
   "execution_count": 2,
   "metadata": {},
   "outputs": [
    {
     "name": "stdout",
     "output_type": "stream",
     "text": [
      "      CRIM    ZN  INDUS  CHAS    NOX     RM   AGE     DIS  RAD    TAX  \\\n",
      "0  0.00632  18.0   2.31   0.0  0.538  6.575  65.2  4.0900  1.0  296.0   \n",
      "1  0.02731   0.0   7.07   0.0  0.469  6.421  78.9  4.9671  2.0  242.0   \n",
      "2  0.02729   0.0   7.07   0.0  0.469  7.185  61.1  4.9671  2.0  242.0   \n",
      "3  0.03237   0.0   2.18   0.0  0.458  6.998  45.8  6.0622  3.0  222.0   \n",
      "4  0.06905   0.0   2.18   0.0  0.458  7.147  54.2  6.0622  3.0  222.0   \n",
      "\n",
      "   PTRATIO       B  LSTAT  Price  \n",
      "0     15.3  396.90   4.98   24.0  \n",
      "1     17.8  396.90   9.14   21.6  \n",
      "2     17.8  392.83   4.03   34.7  \n",
      "3     18.7  394.63   2.94   33.4  \n",
      "4     18.7  396.90   5.33   36.2  \n"
     ]
    }
   ],
   "source": [
    "# Load dataset \n",
    "bos = load_boston()\n",
    "df = pd.DataFrame(bos.data)\n",
    "df.columns = bos.feature_names\n",
    "df[\"Price\"] = bos.target\n",
    "\n",
    "# Standardize\n",
    "data = df[df.columns[:-1]]\n",
    "data = data.apply(\n",
    "    lambda x: (x - x.mean()) / x.std()\n",
    ")\n",
    "\n",
    "data['Price'] = df.Price\n",
    "\n",
    "print(df.head())"
   ]
  },
  {
   "cell_type": "code",
   "execution_count": 3,
   "metadata": {},
   "outputs": [],
   "source": [
    "# # Dataset to tensor \n",
    "# X = torch.tensor(data.drop(\"Price\", axis=1).values).type(torch.float64)\n",
    "# Y = torch.tensor(data[\"Price\"].values).type(torch.float64)\n",
    "\n",
    "# # Split dataset for test and train\n",
    "# X_train, X_test, Y_train, Y_test = train_test_split(X, Y, test_size=0.3, random_state=42)\n",
    "# Y_train = Y_train.view(-1, 1)\n",
    "# Y_test = Y_test.view(-1, 1)"
   ]
  },
  {
   "cell_type": "code",
   "execution_count": 4,
   "metadata": {},
   "outputs": [],
   "source": [
    "# # Define hyperparameters \n",
    "# N_EPOCHS = 50\n",
    "# BATCH_SIZE = 128\n",
    "# lr = 0.0001\n",
    "# INPUT_DIM = X_train.shape[1]\n",
    "# LABEL_DIM = Y_train.shape[1]\n",
    "# NOISE_DIM = 5\n",
    "# HIDDEN_DIM = 20 "
   ]
  },
  {
   "cell_type": "code",
   "execution_count": 5,
   "metadata": {},
   "outputs": [],
   "source": [
    "# # Iterable train data \n",
    "# train_data = torch.utils.data.TensorDataset(X_train, Y_train)\n",
    "# train_iter = torch.utils.data.DataLoader(train_data, batch_size=BATCH_SIZE, shuffle=True)"
   ]
  },
  {
   "cell_type": "code",
   "execution_count": 6,
   "metadata": {},
   "outputs": [],
   "source": [
    "# # Define the models\n",
    "# gen = Generator(INPUT_DIM, HIDDEN_DIM, NOISE_DIM, LABEL_DIM).type(torch.float64)\n",
    "# dis = Discriminator(INPUT_DIM, LABEL_DIM, HIDDEN_DIM).type(torch.float64)\n",
    "\n",
    "# prior = torch.distributions.Normal(torch.tensor(0.0), torch.tensor(1.0))"
   ]
  },
  {
   "cell_type": "code",
   "execution_count": 7,
   "metadata": {},
   "outputs": [],
   "source": [
    "# # Define optimizers \n",
    "# optG = torch.optim.Adam(gen.parameters(), lr=lr)\n",
    "# optD = torch.optim.Adam(dis.parameters(), lr=lr)\n",
    "\n",
    "# logsigmoid = torch.nn.LogSigmoid()"
   ]
  },
  {
   "cell_type": "code",
   "execution_count": 8,
   "metadata": {},
   "outputs": [],
   "source": [
    "# for ep in range(N_EPOCHS):\n",
    "#     for x, y in train_iter:\n",
    "#         N = len(x)\n",
    "        \n",
    "#         \"\"\" Train discriminator \"\"\"\n",
    "#         ## 1. Real data ##\n",
    "#         # Zero grad \n",
    "#         optD.zero_grad()\n",
    "        \n",
    "#         # Forward pass on discriminator \n",
    "#         outD = dis(x, y)\n",
    "        \n",
    "#         ## 2. Generated data ##\n",
    "#         # Forward pass on generator \n",
    "#         noise = prior.sample((N, NOISE_DIM)).type(torch.float64)\n",
    "#         outG_dis = gen(noise, y)\n",
    "        \n",
    "#         # Forward pass on discriminator \n",
    "#         outDG_dis = dis(outG_dis, y)\n",
    "        \n",
    "#         ## 3. Loss ##\n",
    "#         lossD = -torch.mean(logsigmoid(outD) + logsigmoid(1 - outDG_dis))\n",
    "        \n",
    "#         # Backward \n",
    "#         lossD.backward()\n",
    "        \n",
    "#         # Update parameters\n",
    "#         optD.step()\n",
    "        \n",
    "        \n",
    "#         \"\"\" Train Generator \"\"\"\n",
    "#         # Zero grad \n",
    "#         optG.zero_grad()\n",
    "        \n",
    "#         # Forward pass on generator \n",
    "#         # TODO: find out if I should use the same noise as above or sample\n",
    "#         #  new noise\n",
    "#         noise = prior.sample((N, NOISE_DIM)).type(torch.float64)\n",
    "#         outG_gen = gen(noise, y)\n",
    "        \n",
    "#         # Forward pass on discriminator \n",
    "#         outDG_gen = dis(outG_gen, y)\n",
    "        \n",
    "#         # Loss \n",
    "#         lossG = -torch.mean(logsigmoid(outDG_gen))\n",
    "        \n",
    "#         # Backward \n",
    "#         lossG.backward()\n",
    "        \n",
    "#         # Update parameters \n",
    "#         optG.step()\n",
    "        \n",
    "    \n",
    "#     print(\"Train Epoch: {} LossD: {} LossG: {}\".format(ep + 1, lossD, lossG))\n"
   ]
  },
  {
   "cell_type": "markdown",
   "metadata": {},
   "source": [
    "## Test"
   ]
  },
  {
   "cell_type": "code",
   "execution_count": 9,
   "metadata": {},
   "outputs": [],
   "source": [
    "# # Iterable test data \n",
    "# test_data = torch.utils.data.TensorDataset(X_test, Y_test)\n",
    "# test_iter = torch.utils.data.DataLoader(train_data, batch_size=BATCH_SIZE, shuffle=True)"
   ]
  },
  {
   "cell_type": "code",
   "execution_count": 10,
   "metadata": {},
   "outputs": [],
   "source": [
    "# for ep, (x, y) in enumerate(test_iter):\n",
    "#     N = len(x)\n",
    "    \n",
    "#     \"\"\" Testing discriminator \"\"\"\n",
    "#     ## 1. Real data ## \n",
    "#     outD = dis(x, y)\n",
    "    \n",
    "#     ## 2. Generated data ##\n",
    "#     noise_dis = prior.sample((N, NOISE_DIM)).type(torch.float64)\n",
    "#     outG_dis = gen(noise_dis, y)\n",
    "#     outDG_dis = dis(outG_dis, y)\n",
    "    \n",
    "#     ## 3. Loss ##\n",
    "#     lossD = -torch.mean(logsigmoid(outD) + logsigmoid(1 - outDG_dis))\n",
    "    \n",
    "#     \"\"\" Testing generator \"\"\"\n",
    "#     noise_gen = prior.sample((N, NOISE_DIM)).type(torch.float64)\n",
    "#     outG_gen = gen(noise_gen, y)\n",
    "#     outDG_gen = dis(outG_gen, y)\n",
    "    \n",
    "#     # Loss \n",
    "#     lossG = -torch.mean(logsigmoid(outDG_gen))\n",
    "    \n",
    "#     print(\"Train Epoch: {} LossD: {} LossG: {}\".format(ep + 1, lossD, lossG))"
   ]
  },
  {
   "cell_type": "markdown",
   "metadata": {},
   "source": [
    "## 1-NN"
   ]
  },
  {
   "cell_type": "code",
   "execution_count": 11,
   "metadata": {},
   "outputs": [],
   "source": [
    "from sklearn.model_selection import LeaveOneOut\n",
    "# Define the models\n",
    "# Dataset to tensor \n",
    "# \n",
    "X = torch.tensor(data.drop(\"Price\", axis=1).values).type(torch.float64)\n",
    "Y = torch.tensor(data[\"Price\"].values).type(torch.float64).view(-1, 1)\n",
    "\n",
    "X_TRAIN, X_test, Y_TRAIN, Y_test = train_test_split(X, Y, test_size=0.3, random_state=42)\n",
    "Y_TRAIN = Y_TRAIN.view(-1, 1)\n",
    "Y_test = Y_test.view(-1, 1)\n",
    "\n",
    "# Define hyperparameters \n",
    "N_EPOCHS = 50\n",
    "BATCH_SIZE = 128\n",
    "lr = 0.001\n",
    "INPUT_DIM = X.shape[1]\n",
    "LABEL_DIM = Y.shape[1]\n",
    "NOISE_DIM = 5\n",
    "HIDDEN_DIM = 20 "
   ]
  },
  {
   "cell_type": "code",
   "execution_count": 12,
   "metadata": {},
   "outputs": [],
   "source": [
    "# Define the models\n",
    "gen = Generator(INPUT_DIM, HIDDEN_DIM, NOISE_DIM, LABEL_DIM).type(torch.float64)\n",
    "dis = Discriminator(INPUT_DIM, LABEL_DIM, HIDDEN_DIM).type(torch.float64)\n",
    "\n",
    "prior = torch.distributions.Normal(torch.tensor(0.0), torch.tensor(1.0))"
   ]
  },
  {
   "cell_type": "code",
   "execution_count": 13,
   "metadata": {},
   "outputs": [],
   "source": [
    "# Define optimizers \n",
    "optG = torch.optim.Adam(gen.parameters(), lr=lr)\n",
    "optD = torch.optim.Adam(dis.parameters(), lr=lr)\n",
    "\n",
    "logsigmoid = torch.nn.LogSigmoid()"
   ]
  },
  {
   "cell_type": "code",
   "execution_count": 14,
   "metadata": {},
   "outputs": [
    {
     "name": "stdout",
     "output_type": "stream",
     "text": [
      "354\n",
      "354\n"
     ]
    }
   ],
   "source": [
    "from sklearn.model_selection import LeaveOneOut\n",
    "\n",
    "loo = LeaveOneOut()\n",
    "print(loo.get_n_splits(X_TRAIN))\n",
    "print(len(X_TRAIN))"
   ]
  },
  {
   "cell_type": "code",
   "execution_count": 15,
   "metadata": {},
   "outputs": [
    {
     "name": "stdout",
     "output_type": "stream",
     "text": [
      "Epochs:  1 Train accuracy:  0.5225988700564972\n",
      "Epochs:  2 Train accuracy:  0.5847457627118644\n",
      "Epochs:  3 Train accuracy:  0.501412429378531\n",
      "Epochs:  4 Train accuracy:  0.5240112994350282\n",
      "Epochs:  5 Train accuracy:  0.5338983050847458\n",
      "Epochs:  6 Train accuracy:  0.5169491525423728\n",
      "Epochs:  7 Train accuracy:  0.4858757062146893\n",
      "Epochs:  8 Train accuracy:  0.481638418079096\n",
      "Epochs:  9 Train accuracy:  0.5070621468926554\n",
      "Epochs:  10 Train accuracy:  0.5296610169491526\n",
      "Epochs:  11 Train accuracy:  0.7401129943502824\n",
      "Epochs:  12 Train accuracy:  0.5466101694915254\n",
      "Epochs:  13 Train accuracy:  0.4971751412429379\n",
      "Epochs:  14 Train accuracy:  0.5720338983050848\n",
      "Epochs:  15 Train accuracy:  0.53954802259887\n",
      "Epochs:  16 Train accuracy:  0.5268361581920904\n",
      "Epochs:  17 Train accuracy:  0.5494350282485876\n",
      "Epochs:  18 Train accuracy:  0.501412429378531\n",
      "Epochs:  19 Train accuracy:  0.5127118644067796\n",
      "Epochs:  20 Train accuracy:  0.5211864406779662\n",
      "Epochs:  21 Train accuracy:  0.5819209039548022\n",
      "Epochs:  22 Train accuracy:  0.5296610169491526\n",
      "Epochs:  23 Train accuracy:  0.5155367231638418\n",
      "Epochs:  24 Train accuracy:  0.5098870056497176\n",
      "Epochs:  25 Train accuracy:  0.5042372881355932\n",
      "Epochs:  26 Train accuracy:  0.536723163841808\n",
      "Epochs:  27 Train accuracy:  0.557909604519774\n",
      "Epochs:  28 Train accuracy:  0.4576271186440678\n",
      "Epochs:  29 Train accuracy:  0.5098870056497176\n",
      "Epochs:  30 Train accuracy:  0.4533898305084746\n",
      "Epochs:  31 Train accuracy:  0.5720338983050848\n",
      "Epochs:  32 Train accuracy:  0.4844632768361582\n",
      "Epochs:  33 Train accuracy:  0.4858757062146893\n",
      "Epochs:  34 Train accuracy:  0.4971751412429379\n",
      "Epochs:  35 Train accuracy:  0.53954802259887\n",
      "Epochs:  36 Train accuracy:  0.53954802259887\n",
      "Epochs:  37 Train accuracy:  0.5550847457627118\n",
      "Epochs:  38 Train accuracy:  0.5\n",
      "Epochs:  39 Train accuracy:  0.4943502824858757\n",
      "Epochs:  40 Train accuracy:  0.4745762711864407\n",
      "Epochs:  41 Train accuracy:  0.501412429378531\n",
      "Epochs:  42 Train accuracy:  0.4858757062146893\n",
      "Epochs:  43 Train accuracy:  0.53954802259887\n",
      "Epochs:  44 Train accuracy:  0.518361581920904\n",
      "Epochs:  45 Train accuracy:  0.5451977401129944\n",
      "Epochs:  46 Train accuracy:  0.53954802259887\n",
      "Epochs:  47 Train accuracy:  0.480225988700565\n",
      "Epochs:  48 Train accuracy:  0.5480225988700564\n",
      "Epochs:  49 Train accuracy:  0.617231638418079\n",
      "Epochs:  50 Train accuracy:  0.6059322033898306\n"
     ]
    }
   ],
   "source": [
    "train_accs = torch.tensor([])\n",
    "test_accs = torch.tensor([])\n",
    "\n",
    "\n",
    "for ep in range(N_EPOCHS):\n",
    "    train_accuracy = 0\n",
    "    num_samples = 0 \n",
    "    for train_index, test_train_index in loo.split(X_TRAIN):\n",
    "        X_train, X_test_train = X[train_index], X[test_train_index]\n",
    "        Y_train, Y_test_train = Y[train_index], Y[test_train_index]\n",
    "        \n",
    "        N = len(X_train)\n",
    "        \n",
    "        \"\"\" Train Discriminator \"\"\"\n",
    "        # zero grad \n",
    "        optD.zero_grad()\n",
    "        \n",
    "        # Forward pass \n",
    "        # 1. Discriminator \n",
    "        outD = dis(X_train, Y_train)\n",
    "        \n",
    "        # 2. Generator-Discriminator\n",
    "        noise_dis = prior.sample((N, NOISE_DIM)).type(torch.float64)\n",
    "        outG_dis = gen(noise_dis, Y_train)\n",
    "        outDG_dis = dis(outG_dis, Y_train)\n",
    "        \n",
    "        # Loss\n",
    "        lossD = -torch.mean(logsigmoid(outD) + logsigmoid(1 - outDG_dis))\n",
    "        \n",
    "        # Backward\n",
    "        lossD.backward()\n",
    "        \n",
    "        # Update parameters \n",
    "        optD.step()\n",
    "                \n",
    "        \"\"\" Train Generator \"\"\"\n",
    "        # zero grad \n",
    "        optG.zero_grad()\n",
    "        \n",
    "        # Forward pass \n",
    "        noise_gen = prior.sample((N, NOISE_DIM)).type(torch.float64)\n",
    "        outG_gen = gen(noise_gen, Y_train)\n",
    "        outDG_gen = dis(outG_gen, Y_train)\n",
    "        \n",
    "        # Loss \n",
    "        lossG = -torch.mean(logsigmoid(outDG_gen))\n",
    "        \n",
    "        # Backward \n",
    "        lossG.backward()\n",
    "        \n",
    "        # Update parameters \n",
    "        optG.step()\n",
    "        \n",
    "#         \"\"\" Train Accuracy \"\"\"\n",
    "#         outD_acc = dis(X_train, Y_train)\n",
    "        \n",
    "#         noise_acc = prior.sample((N, NOISE_DIM)).type(torch.float64)\n",
    "#         outG_acc = gen(noise_acc, Y_train)\n",
    "#         outDG_acc = dis(outG_acc, Y_train)\n",
    "        \n",
    "#         train_accuracy += torch.sum((outD_acc > 0.5) == 1).item()\n",
    "#         train_accuracy += torch.sum((outDG_acc > 0.5) == 0).item()\n",
    "# #         accuracy = torch.sum((outD > 0.5) == 1) + torch.sum((outDG_gen > 0.5) == 0)\n",
    "        \n",
    "        \"\"\" Train Accuracy (Leave one out) \"\"\"\n",
    "        # Forward pass\n",
    "        # 1. Discriminator\n",
    "        outD = dis(X_test_train, Y_test_train)\n",
    "        outD = torch.nn.Sigmoid()(outD[0,0])\n",
    "        outD_acc = int((outD > 0.5) == 1)\n",
    "        \n",
    "        train_accuracy += outD_acc \n",
    "        num_samples += 1\n",
    "        \n",
    "\n",
    "        # 2. Generator-Discriminator\n",
    "        noise = prior.sample((1, NOISE_DIM)).type(torch.float64)\n",
    "        outG = gen(noise, Y_test_train)\n",
    "        outDG = dis(outG, Y_test_train)\n",
    "        outDG = torch.nn.Sigmoid()(outDG[0,0])\n",
    "        outDG_accuracy = int((outDG > 0.5) == 0)\n",
    "        \n",
    "        train_accuracy += outDG_accuracy\n",
    "        num_samples += 1     \n",
    "    \n",
    "    train_accuracy = train_accuracy / num_samples\n",
    "    print(\"Epochs: \", ep + 1, \"Train accuracy: \", train_accuracy)\n",
    "    \n",
    "    train_accs = torch.cat((train_accs, torch.tensor([train_accuracy])))\n",
    "\n",
    "    # https://arxiv.org/pdf/1802.03446.pdf\n",
    "    # https://arxiv.org/pdf/1610.06545.pdf"
   ]
  },
  {
   "cell_type": "code",
   "execution_count": 16,
   "metadata": {},
   "outputs": [
    {
     "name": "stdout",
     "output_type": "stream",
     "text": [
      "tensor([0.5226, 0.5847, 0.5014, 0.5240, 0.5339, 0.5169, 0.4859, 0.4816, 0.5071,\n",
      "        0.5297, 0.7401, 0.5466, 0.4972, 0.5720, 0.5395, 0.5268, 0.5494, 0.5014,\n",
      "        0.5127, 0.5212, 0.5819, 0.5297, 0.5155, 0.5099, 0.5042, 0.5367, 0.5579,\n",
      "        0.4576, 0.5099, 0.4534, 0.5720, 0.4845, 0.4859, 0.4972, 0.5395, 0.5395,\n",
      "        0.5551, 0.5000, 0.4944, 0.4746, 0.5014, 0.4859, 0.5395, 0.5184, 0.5452,\n",
      "        0.5395, 0.4802, 0.5480, 0.6172, 0.6059])\n"
     ]
    },
    {
     "data": {
      "image/png": "[encoded data removed]",
      "text/plain": [
       "<Figure size 432x288 with 1 Axes>"
      ]
     },
     "metadata": {
      "needs_background": "light"
     },
     "output_type": "display_data"
    }
   ],
   "source": [
    "\"\"\" Plot losses \"\"\"\n",
    "import matplotlib.pyplot as plt \n",
    "\n",
    "# fig, axs = plt.subplots(1, 2, figsize=(20, 5))\n",
    "print(train_accs)\n",
    "plt.plot(train_accs)\n",
    "plt.title(\"Train Accuracies\")\n",
    "plt.xlabel(\"Epochs\")\n",
    "plt.ylabel(\"Accuracies\")\n",
    "plt.show()"
   ]
  },
  {
   "cell_type": "code",
   "execution_count": 17,
   "metadata": {},
   "outputs": [
    {
     "name": "stdout",
     "output_type": "stream",
     "text": [
      "Final test accuracy on held out data:  0.7138157894736842\n"
     ]
    }
   ],
   "source": [
    "# Test Test \n",
    "outD = dis(X_test, Y_test)\n",
    "\n",
    "noise = prior.sample((len(X_test), NOISE_DIM)).type(torch.float64)\n",
    "outG = gen(noise, Y_test)\n",
    "outDG = dis(outG, Y_test)\n",
    "\n",
    "output = torch.cat((outD, outDG))\n",
    "label_real = torch.ones(outD.shape)\n",
    "label_fake = torch.zeros(outDG.shape)\n",
    "labels = torch.cat((label_real, label_fake))\n",
    "\n",
    "accuracy = torch.mean(((output > 0.5) == labels).type(torch.float64)).item()\n",
    "\n",
    "print(\"Final test accuracy on held out data: \", accuracy)"
   ]
  },
  {
   "cell_type": "code",
   "execution_count": null,
   "metadata": {},
   "outputs": [],
   "source": []
  }
 ],
 "metadata": {
  "kernelspec": {
   "display_name": "Python 3",
   "language": "python",
   "name": "python3"
  },
  "language_info": {
   "codemirror_mode": {
    "name": "ipython",
    "version": 3
   },
   "file_extension": ".py",
   "mimetype": "text/x-python",
   "name": "python",
   "nbconvert_exporter": "python",
   "pygments_lexer": "ipython3",
   "version": "3.8.5"
  }
 },
 "nbformat": 4,
 "nbformat_minor": 4
}
